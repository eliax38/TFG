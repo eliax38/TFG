{
 "cells": [
  {
   "cell_type": "code",
   "execution_count": 3,
   "id": "a4b9fb21",
   "metadata": {},
   "outputs": [],
   "source": [
    "from sklearn.tree import DecisionTreeRegressor\n",
    "from sklearn.model_selection import GridSearchCV\n",
    "from sklearn.metrics import mean_squared_error\n",
    "from sklearn.preprocessing import StandardScaler\n",
    "import pandas as pd\n",
    "import numpy as np\n",
    "from sklearn.model_selection import train_test_split\n",
    "\n",
    "pitch = pd.read_excel(\"reduced_defensas.xlsx\")\n",
    "\n",
    "# sqrt_vars = ['Interceptions', 'Yellow_cards', 'Transfer_value', 'Exp_contr', 'Minutes_pl_BC', 'NP_goals', 'Pen_goals', 'Pen_goals_BC', 'Assists', 'GCA_BC', 'Red_cards']\n",
    "# for var in sqrt_vars: \n",
    "#     pitch[var] = pitch[var].apply(np.sqrt)\n",
    "\n",
    "\n",
    "numeric_vars = ['Transfer_value', 'Exp_contr', 'Age', 'Minutes_pl', 'Minutes_pl_BC', 'NP_goals', 'Pen_goals', 'Pen_goals_BC', 'Assists', 'Interceptions', 'GCA_BC', 'Yellow_cards', 'Red_cards']\n",
    "\n",
    "scaler = StandardScaler()\n",
    "pitch[numeric_vars] = scaler.fit_transform(pitch[numeric_vars])"
   ]
  },
  {
   "cell_type": "code",
   "execution_count": 4,
   "id": "aa5c062f",
   "metadata": {},
   "outputs": [
    {
     "name": "stdout",
     "output_type": "stream",
     "text": [
      "Mejores hiperparámetros: {'criterion': 'squared_error', 'max_depth': 10, 'min_samples_leaf': 15, 'min_samples_split': 2}\n",
      "R^2 en entrenamiento: 0.5081981463398161\n",
      "MSE en entrenamiento: 0.45416962636602\n",
      "R^2 en prueba: 0.45802959586798175\n",
      "MSE en prueba: 0.6932410637015808\n"
     ]
    }
   ],
   "source": [
    "X = pitch.drop(\"Transfer_value\", axis=1)\n",
    "Y = pitch[\"Transfer_value\"]\n",
    "\n",
    "X_train, X_test, Y_train, Y_test = train_test_split(X, Y, test_size=0.2, random_state=42)\n",
    "\n",
    "# Definir el modelo de árbol de decisión\n",
    "dt_model = DecisionTreeRegressor(random_state=42)\n",
    "\n",
    "# Hiperparámetros a ajustar con GridSearchCV\n",
    "param_grid = {\n",
    "    'max_depth': [3, 5, 10],\n",
    "    'min_samples_split': [2, 5, 10, 15, 20],\n",
    "    'min_samples_leaf': [1, 2, 5, 10, 15, 20],\n",
    "    'criterion': ['squared_error', 'friedman_mse', 'absolute_error']\n",
    "}\n",
    "\n",
    "# Realizar la búsqueda de hiperparámetros con validación cruzada (solo en entrenamiento)\n",
    "grid_search = GridSearchCV(dt_model, param_grid, cv=5, scoring='neg_mean_squared_error', n_jobs=-1)\n",
    "grid_search.fit(X_train, Y_train)\n",
    "\n",
    "# Mejor modelo encontrado\n",
    "best_model = grid_search.best_estimator_\n",
    "\n",
    "# Predicciones en ambos conjuntos\n",
    "y_train_pred = best_model.predict(X_train)\n",
    "y_test_pred = best_model.predict(X_test)\n",
    "\n",
    "# Métricas en entrenamiento\n",
    "r2_train = best_model.score(X_train, Y_train)\n",
    "mse_train = mean_squared_error(Y_train, y_train_pred)\n",
    "\n",
    "# Métricas en prueba\n",
    "r2_test = best_model.score(X_test, Y_test)\n",
    "mse_test = mean_squared_error(Y_test, y_test_pred)\n",
    "\n",
    "# Imprimir resultados\n",
    "print(\"Mejores hiperparámetros:\", grid_search.best_params_)\n",
    "print(f\"R^2 en entrenamiento: {r2_train}\")\n",
    "print(f\"MSE en entrenamiento: {mse_train}\")\n",
    "print(f\"R^2 en prueba: {r2_test}\")\n",
    "print(f\"MSE en prueba: {mse_test}\")"
   ]
  },
  {
   "cell_type": "code",
   "execution_count": 9,
   "id": "ec54880b",
   "metadata": {},
   "outputs": [
    {
     "name": "stdout",
     "output_type": "stream",
     "text": [
      "Exp_contr                            0.445336\n",
      "Interceptions                        0.175004\n",
      "GCA_BC                               0.134111\n",
      "NP_goals                             0.091126\n",
      "Age                                  0.081297\n",
      "Minutes_pl_BC                        0.031404\n",
      "Reduced_country_from_Países Bajos    0.020862\n",
      "Reduced_country_from_Inglaterra      0.012001\n",
      "Minutes_pl                           0.004367\n",
      "Assists                              0.002623\n",
      "Yellow_cards                         0.001869\n",
      "dtype: float64\n"
     ]
    }
   ],
   "source": [
    "importances = best_model.feature_importances_\n",
    "feature_importance = pd.Series(importances, index=X.columns).sort_values(ascending=False)\n",
    "print(feature_importance.head(11)) "
   ]
  },
  {
   "cell_type": "code",
   "execution_count": null,
   "id": "723b6095",
   "metadata": {},
   "outputs": [],
   "source": []
  },
  {
   "cell_type": "code",
   "execution_count": null,
   "id": "7f55dbd2",
   "metadata": {},
   "outputs": [],
   "source": []
  }
 ],
 "metadata": {
  "kernelspec": {
   "display_name": "Python 3 (ipykernel)",
   "language": "python",
   "name": "python3"
  },
  "language_info": {
   "codemirror_mode": {
    "name": "ipython",
    "version": 3
   },
   "file_extension": ".py",
   "mimetype": "text/x-python",
   "name": "python",
   "nbconvert_exporter": "python",
   "pygments_lexer": "ipython3",
   "version": "3.11.4"
  }
 },
 "nbformat": 4,
 "nbformat_minor": 5
}
