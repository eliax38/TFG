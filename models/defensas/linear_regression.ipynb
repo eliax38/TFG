{
 "cells": [
  {
   "cell_type": "code",
   "execution_count": 20,
   "id": "f193498b",
   "metadata": {},
   "outputs": [],
   "source": [
    "import pandas as pd\n",
    "import seaborn as sns\n",
    "import matplotlib.pyplot as plt\n",
    "import numpy as np\n",
    "import statsmodels.api as sm\n",
    "from statsmodels.stats.outliers_influence import variance_inflation_factor\n",
    "from statsmodels.tools.tools import add_constant\n",
    "from sklearn.preprocessing import StandardScaler\n",
    "\n",
    "from sklearn.linear_model import LinearRegression\n",
    "from sklearn.model_selection import train_test_split\n",
    "from sklearn.metrics import mean_absolute_error, r2_score\n",
    "from statsmodels.stats.diagnostic import het_breuschpagan\n",
    "\n",
    "defensas = pd.read_excel(\"reduced_defensas.xlsx\")\n",
    "\n",
    "numeric_vars = ['Transfer_value', 'Exp_contr', 'Age', 'Minutes_pl', 'Minutes_pl_BC', 'NP_goals', 'Pen_goals', 'Pen_goals_BC', 'Assists', 'Interceptions', 'GCA_BC', 'Yellow_cards', 'Red_cards']\n",
    "defensas[numeric_vars] = StandardScaler().fit_transform(defensas[numeric_vars])"
   ]
  },
  {
   "cell_type": "code",
   "execution_count": 21,
   "id": "3a175491",
   "metadata": {},
   "outputs": [],
   "source": [
    "dic_vars = {\n",
    "'vars1': ['Age', 'Exp_contr', 'Minutes_pl_BC', 'NP_goals', 'Pen_goals', 'Pen_goals_BC', 'Assists', 'Interceptions', 'GCA_BC', 'Yellow_cards', 'Red_cards'],\n",
    "    \n",
    "'vars2': ['Reduced_team_from_Inter', 'Reduced_team_from_AC Milan', 'Reduced_team_from_Juventus', 'Reduced_team_from_Napoli', 'Reduced_team_from_Paris SG', 'Reduced_team_from_Real Madrid', 'Reduced_team_from_Barcelona', 'Reduced_team_from_Atlético Madrid',\n",
    "         'Reduced_team_from_Bayern Munich', 'Reduced_team_from_Bor. Dortmund', 'Reduced_team_from_Chelsea', 'Reduced_team_from_Arsenal', 'Reduced_team_from_Man City', 'Reduced_team_from_Man Utd', 'Reduced_team_from_Liverpool', 'Reduced_country_from_Inglaterra', \n",
    "         'Reduced_country_from_Francia', 'Reduced_country_from_España', 'Reduced_country_from_Italia', 'Reduced_country_from_Alemania', 'Reduced_country_from_Portugal', 'Reduced_country_from_Países Bajos', 'Reduced_country_from_Argentina', 'Reduced_country_from_Brasil'],\n",
    "}"
   ]
  },
  {
   "cell_type": "code",
   "execution_count": 22,
   "id": "0dafc505",
   "metadata": {},
   "outputs": [],
   "source": [
    "def multiple_lr(df, indep_vars):\n",
    "    X = df[indep_vars]\n",
    "    y = df[\"Transfer_value\"]  # Transfer_value_sqrt\n",
    "\n",
    "    # Añadir una constante al conjunto de entrenamiento para el término independiente (intercepto)\n",
    "    X = sm.add_constant(X)\n",
    "\n",
    "    # Entrenar el modelo de Ordinary Least Squares (OLS) de statsmodels\n",
    "    model_sm = sm.OLS(y, X).fit()\n",
    "    \n",
    "    model_sm_robust = model_sm.get_robustcov_results(cov_type='HC3')\n",
    "\n",
    "    # Obtener los p-valores de los coeficientes\n",
    "    p_values = model_sm_robust.pvalues\n",
    "\n",
    "    # Crear un DataFrame con los coeficientes y sus p-valores\n",
    "    p_values_df = pd.DataFrame({\n",
    "        \"Variable\": X.columns,\n",
    "        \"P-value\": p_values\n",
    "    })\n",
    "    \n",
    "    mse = model_sm_robust.mse_resid\n",
    "    print(f\"MSE: {mse}\")\n",
    "\n",
    "    # Ordenar el DataFrame por el valor absoluto del coeficiente\n",
    "#     print(coefficients_df.sort_values(by=\"Coeficiente\", key=abs, ascending=False))\n",
    "\n",
    "    \n",
    "    return (model_sm_robust, p_values_df)"
   ]
  },
  {
   "cell_type": "code",
   "execution_count": 23,
   "id": "3d2c8b06",
   "metadata": {},
   "outputs": [
    {
     "name": "stdout",
     "output_type": "stream",
     "text": [
      "MSE: 0.6005690679366017\n"
     ]
    }
   ],
   "source": [
    "(summ, p_values) = multiple_lr(defensas, dic_vars['vars1'])"
   ]
  },
  {
   "cell_type": "code",
   "execution_count": 24,
   "id": "c59b54f3",
   "metadata": {},
   "outputs": [
    {
     "name": "stdout",
     "output_type": "stream",
     "text": [
      "MSE: 0.6005690679366017\n",
      "MSE: 0.6017022964283191\n",
      "                            OLS Regression Results                            \n",
      "==============================================================================\n",
      "Dep. Variable:         Transfer_value   R-squared:                       0.403\n",
      "Model:                            OLS   Adj. R-squared:                  0.399\n",
      "Method:                 Least Squares   F-statistic:                     35.75\n",
      "Date:                Sat, 10 May 2025   Prob (F-statistic):           9.82e-45\n",
      "Time:                        15:52:37   Log-Likelihood:                -1170.2\n",
      "No. Observations:                1008   AIC:                             2356.\n",
      "Df Residuals:                    1000   BIC:                             2396.\n",
      "Df Model:                           7                                         \n",
      "Covariance Type:                  HC3                                         \n",
      "=================================================================================\n",
      "                    coef    std err          t      P>|t|      [0.025      0.975]\n",
      "---------------------------------------------------------------------------------\n",
      "const         -2.732e-17      0.025  -1.11e-15      1.000      -0.048       0.048\n",
      "Age              -0.2940      0.032     -9.249      0.000      -0.356      -0.232\n",
      "Exp_contr         0.3162      0.038      8.401      0.000       0.242       0.390\n",
      "Minutes_pl_BC     0.2624      0.050      5.272      0.000       0.165       0.360\n",
      "NP_goals          0.1950      0.043      4.484      0.000       0.110       0.280\n",
      "Assists          -0.0641      0.029     -2.234      0.026      -0.120      -0.008\n",
      "Interceptions     0.1177      0.037      3.158      0.002       0.045       0.191\n",
      "GCA_BC            0.1241      0.051      2.445      0.015       0.025       0.224\n",
      "==============================================================================\n",
      "Omnibus:                      569.397   Durbin-Watson:                   1.729\n",
      "Prob(Omnibus):                  0.000   Jarque-Bera (JB):             5893.652\n",
      "Skew:                           2.410   Prob(JB):                         0.00\n",
      "Kurtosis:                      13.821   Cond. No.                         4.01\n",
      "==============================================================================\n",
      "\n",
      "Notes:\n",
      "[1] Standard Errors are heteroscedasticity robust (HC3)\n"
     ]
    }
   ],
   "source": [
    "ns = 1\n",
    "significant_variables = dic_vars['vars1']\n",
    "\n",
    "while ns > 0:\n",
    "    summ, p_values_df = multiple_lr(defensas, significant_variables)\n",
    "\n",
    "    alpha = 0.05\n",
    "\n",
    "    # Identificar las variables significativas (excluyendo la constante)\n",
    "    significant_variables = p_values_df[(p_values_df[\"P-value\"] <= alpha) & (p_values_df[\"Variable\"] != \"const\")][\"Variable\"].tolist()\n",
    "    ns = len(p_values_df) - len(significant_variables) - 1\n",
    "#     print(ns)\n",
    "\n",
    "significant_variables_next = significant_variables\n",
    "print(summ.summary())"
   ]
  },
  {
   "cell_type": "code",
   "execution_count": 25,
   "id": "b56cc8c6",
   "metadata": {},
   "outputs": [
    {
     "name": "stdout",
     "output_type": "stream",
     "text": [
      "MSE: 0.5569239865552015\n",
      "MSE: 0.5734802009363157\n",
      "MSE: 0.580201705696078\n",
      "                            OLS Regression Results                            \n",
      "==============================================================================\n",
      "Dep. Variable:         Transfer_value   R-squared:                       0.427\n",
      "Model:                            OLS   Adj. R-squared:                  0.420\n",
      "Method:                 Least Squares   F-statistic:                     256.5\n",
      "Date:                Sat, 10 May 2025   Prob (F-statistic):          1.88e-281\n",
      "Time:                        15:52:37   Log-Likelihood:                -1149.9\n",
      "No. Observations:                1008   AIC:                             2324.\n",
      "Df Residuals:                     996   BIC:                             2383.\n",
      "Df Model:                          11                                         \n",
      "Covariance Type:                  HC3                                         \n",
      "=====================================================================================================\n",
      "                                        coef    std err          t      P>|t|      [0.025      0.975]\n",
      "-----------------------------------------------------------------------------------------------------\n",
      "const                                -0.0717      0.026     -2.780      0.006      -0.122      -0.021\n",
      "Age                                  -0.2930      0.031     -9.435      0.000      -0.354      -0.232\n",
      "Exp_contr                             0.3155      0.037      8.580      0.000       0.243       0.388\n",
      "Minutes_pl_BC                         0.2771      0.050      5.562      0.000       0.179       0.375\n",
      "NP_goals                              0.1757      0.043      4.107      0.000       0.092       0.260\n",
      "Assists                              -0.0856      0.030     -2.861      0.004      -0.144      -0.027\n",
      "Interceptions                         0.0985      0.037      2.699      0.007       0.027       0.170\n",
      "GCA_BC                                0.1398      0.052      2.713      0.007       0.039       0.241\n",
      "Reduced_team_from_Arsenal            -0.5812      0.240     -2.424      0.016      -1.052      -0.111\n",
      "Reduced_team_from_Liverpool           0.3027      0.091      3.330      0.001       0.124       0.481\n",
      "Reduced_country_from_Inglaterra       0.4202      0.091      4.611      0.000       0.241       0.599\n",
      "Reduced_country_from_Países Bajos     0.3417      0.145      2.356      0.019       0.057       0.626\n",
      "==============================================================================\n",
      "Omnibus:                      572.792   Durbin-Watson:                   1.739\n",
      "Prob(Omnibus):                  0.000   Jarque-Bera (JB):             6004.204\n",
      "Skew:                           2.424   Prob(JB):                         0.00\n",
      "Kurtosis:                      13.929   Cond. No.                         31.2\n",
      "==============================================================================\n",
      "\n",
      "Notes:\n",
      "[1] Standard Errors are heteroscedasticity robust (HC3)\n"
     ]
    }
   ],
   "source": [
    "ns = 1\n",
    "significant_variables = list(significant_variables_next + dic_vars['vars2'])\n",
    "\n",
    "while ns > 0:\n",
    "    summ, p_values_df = multiple_lr(defensas, significant_variables)\n",
    "\n",
    "    alpha = 0.05\n",
    "\n",
    "    # Identificar las variables significativas (excluyendo la constante)\n",
    "    significant_variables = p_values_df[(p_values_df[\"P-value\"] <= alpha) & (p_values_df[\"Variable\"] != \"const\")][\"Variable\"].tolist()\n",
    "    ns = len(p_values_df) - len(significant_variables) - 1\n",
    "#     print(ns)\n",
    "\n",
    "significant_variables_next = significant_variables\n",
    "print(summ.summary())"
   ]
  },
  {
   "cell_type": "code",
   "execution_count": 8,
   "id": "7aec3bce",
   "metadata": {},
   "outputs": [
    {
     "data": {
      "text/plain": [
       "Index(['Unnamed: 0', 'Transfer_value', 'Exp_contr', 'Age', 'Minutes_pl',\n",
       "       'Minutes_pl_BC', 'NP_goals', 'Pen_goals', 'Pen_goals_BC', 'Assists',\n",
       "       'Interceptions', 'GCA_BC', 'Yellow_cards', 'Red_cards',\n",
       "       'Reduced_team_from_Inter', 'Reduced_team_from_AC Milan',\n",
       "       'Reduced_team_from_Juventus', 'Reduced_team_from_Napoli',\n",
       "       'Reduced_team_from_Paris SG', 'Reduced_team_from_Real Madrid',\n",
       "       'Reduced_team_from_Barcelona', 'Reduced_team_from_Atlético Madrid',\n",
       "       'Reduced_team_from_Bayern Munich', 'Reduced_team_from_Bor. Dortmund',\n",
       "       'Reduced_team_from_Chelsea', 'Reduced_team_from_Arsenal',\n",
       "       'Reduced_team_from_Man City', 'Reduced_team_from_Man Utd',\n",
       "       'Reduced_team_from_Liverpool', 'Reduced_country_from_Inglaterra',\n",
       "       'Reduced_country_from_Francia', 'Reduced_country_from_España',\n",
       "       'Reduced_country_from_Italia', 'Reduced_country_from_Alemania',\n",
       "       'Reduced_country_from_Portugal', 'Reduced_country_from_Países Bajos',\n",
       "       'Reduced_country_from_Argentina', 'Reduced_country_from_Brasil'],\n",
       "      dtype='object')"
      ]
     },
     "execution_count": 8,
     "metadata": {},
     "output_type": "execute_result"
    }
   ],
   "source": [
    "defensas.columns"
   ]
  },
  {
   "cell_type": "code",
   "execution_count": null,
   "id": "403bfa6f",
   "metadata": {},
   "outputs": [],
   "source": []
  },
  {
   "cell_type": "code",
   "execution_count": null,
   "id": "c2112f28",
   "metadata": {},
   "outputs": [],
   "source": []
  },
  {
   "cell_type": "code",
   "execution_count": null,
   "id": "ddb13748",
   "metadata": {},
   "outputs": [],
   "source": []
  },
  {
   "cell_type": "code",
   "execution_count": null,
   "id": "d12d64cf",
   "metadata": {},
   "outputs": [],
   "source": []
  },
  {
   "cell_type": "code",
   "execution_count": null,
   "id": "347204e0",
   "metadata": {},
   "outputs": [],
   "source": []
  },
  {
   "cell_type": "code",
   "execution_count": 17,
   "id": "916434dd",
   "metadata": {},
   "outputs": [],
   "source": [
    "\n",
    "\n",
    "\n",
    "\n",
    "\n",
    "\n",
    "\n",
    "\n",
    "\n",
    "defensas = pd.read_excel(\"delanteros.xlsx\")\n",
    "\n",
    "def list_reduced(lista, mains):\n",
    "    new_list = []\n",
    "    for c in lista:\n",
    "        if c in mains:\n",
    "            new_list.append(c)\n",
    "        else:\n",
    "            new_list.append(\"Otros\")\n",
    "    return new_list\n",
    "\n",
    "mains = [\"Inglaterra\", \"Francia\", \"España\", \"Italia\", \"Alemania\", \"Portugal\", \"Países Bajos\", \"Argentina\", \"Brasil\"]\n",
    "\n",
    "mains_team = [\"Inter\", \"AC Milan\", \"Juventus\", \"Napoli\", \"Paris SG\", \"Real Madrid\", \"Barcelona\", \"Atlético Madrid\",\n",
    "             \"Bayern Munich\", \"Bor. Dortmund\", \"Chelsea\", \"Arsenal\", \"Man City\", \"Man Utd\", \"Liverpool\"]\n",
    "\n",
    "c_defensas_from_reduced = list_reduced(defensas.Country_from, mains)\n",
    "defensas[\"Reduced_country_from\"] = c_defensas_from_reduced\n",
    "\n",
    "t_defensas_from_reduced = list_reduced(defensas.Team_from, mains_team)\n",
    "defensas[\"Reduced_team_from\"] = t_defensas_from_reduced"
   ]
  },
  {
   "cell_type": "code",
   "execution_count": 18,
   "id": "6c8619c0",
   "metadata": {},
   "outputs": [],
   "source": [
    "categoric_pitch = ['Reduced_team_from', 'Reduced_country_from', 'Position']\n",
    "\n",
    "pitch_vars = ['Transfer_value', 'Exp_contr',\n",
    "       'Age', 'Minutes_pl', 'Minutes_pl_BC', 'NP_goals',\n",
    "       'Pen_goals', 'Pen_goals_BC', 'Assists', 'Interceptions', 'GCA_BC',\n",
    "       'Yellow_cards', 'Red_cards']\n",
    "\n",
    "mains = [\"Otros\", \"Inglaterra\", \"Francia\", \"España\", \"Italia\", \"Alemania\", \"Portugal\", \"Países Bajos\", \"Argentina\", \"Brasil\"]\n",
    "\n",
    "mains_team = [\"Otros\", \"Inter\", \"AC Milan\", \"Juventus\", \"Napoli\", \"Paris SG\", \"Real Madrid\", \"Barcelona\", \"Atlético Madrid\",\n",
    "             \"Bayern Munich\", \"Bor. Dortmund\", \"Chelsea\", \"Arsenal\", \"Man City\", \"Man Utd\", \"Liverpool\"]\n",
    "\n",
    "defensas[\"Reduced_team_from\"] = pd.Categorical(defensas[\"Reduced_team_from\"], categories=mains_team)\n",
    "df_dummies = pd.get_dummies(defensas[pitch_vars + categoric_pitch], columns=[\"Reduced_team_from\"], drop_first=True)\n",
    "\n",
    "df_dummies[\"Reduced_country_from\"] = pd.Categorical(defensas[\"Reduced_country_from\"], categories=mains)\n",
    "df_dummies = pd.get_dummies(df_dummies, columns=[\"Reduced_country_from\"], drop_first=True)"
   ]
  },
  {
   "cell_type": "code",
   "execution_count": 19,
   "id": "8187be89",
   "metadata": {},
   "outputs": [],
   "source": [
    "df_dummies.drop('Position', axis = 1).to_excel(\"reduced_delanteros.xlsx\", index = False)"
   ]
  }
 ],
 "metadata": {
  "kernelspec": {
   "display_name": "Python 3 (ipykernel)",
   "language": "python",
   "name": "python3"
  },
  "language_info": {
   "codemirror_mode": {
    "name": "ipython",
    "version": 3
   },
   "file_extension": ".py",
   "mimetype": "text/x-python",
   "name": "python",
   "nbconvert_exporter": "python",
   "pygments_lexer": "ipython3",
   "version": "3.11.4"
  }
 },
 "nbformat": 4,
 "nbformat_minor": 5
}
