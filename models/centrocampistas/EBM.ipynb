{
 "cells": [
  {
   "cell_type": "code",
   "execution_count": 1,
   "id": "c9338e1b",
   "metadata": {},
   "outputs": [],
   "source": [
    "import numpy as np\n",
    "import pandas as pd\n",
    "from sklearn.preprocessing import StandardScaler\n",
    "from interpret.glassbox import ExplainableBoostingRegressor\n",
    "from sklearn.model_selection import train_test_split\n",
    "from sklearn.metrics import r2_score, mean_squared_error\n",
    "from time import time\n",
    "\n",
    "pitch = pd.read_excel(\"reduced_centrocampistas.xlsx\")\n",
    "\n",
    "numeric_vars = ['Transfer_value', 'Exp_contr', 'Age', 'Minutes_pl', 'Minutes_pl_BC', 'NP_goals', 'Pen_goals', 'Pen_goals_BC', 'Assists', 'Interceptions', 'GCA_BC', 'Yellow_cards', 'Red_cards']\n",
    "pitch[numeric_vars] = StandardScaler().fit_transform(pitch[numeric_vars])"
   ]
  },
  {
   "cell_type": "code",
   "execution_count": 2,
   "id": "bbafd0f4",
   "metadata": {},
   "outputs": [],
   "source": [
    "ind_vars = ['Exp_contr', 'Age', 'Minutes_pl', 'Minutes_pl_BC',\n",
    "       'NP_goals', 'Pen_goals', 'Pen_goals_BC', 'Assists', 'Interceptions',\n",
    "       'GCA_BC', 'Yellow_cards', 'Red_cards', 'Reduced_team_from_Inter',\n",
    "       'Reduced_team_from_AC Milan', 'Reduced_team_from_Juventus',\n",
    "       'Reduced_team_from_Napoli', 'Reduced_team_from_Paris SG',\n",
    "       'Reduced_team_from_Real Madrid', 'Reduced_team_from_Barcelona',\n",
    "       'Reduced_team_from_Atlético Madrid', 'Reduced_team_from_Bayern Munich',\n",
    "       'Reduced_team_from_Bor. Dortmund', 'Reduced_team_from_Chelsea',\n",
    "       'Reduced_team_from_Arsenal', 'Reduced_team_from_Man City',\n",
    "       'Reduced_team_from_Man Utd', 'Reduced_team_from_Liverpool', 'Reduced_country_from_Inglaterra',\n",
    "       'Reduced_country_from_Francia', 'Reduced_country_from_España',\n",
    "       'Reduced_country_from_Italia', 'Reduced_country_from_Alemania',\n",
    "       'Reduced_country_from_Portugal', 'Reduced_country_from_Países Bajos',\n",
    "       'Reduced_country_from_Argentina', 'Reduced_country_from_Brasil']"
   ]
  },
  {
   "cell_type": "code",
   "execution_count": 3,
   "id": "957497c0",
   "metadata": {},
   "outputs": [
    {
     "name": "stdout",
     "output_type": "stream",
     "text": [
      "R² del modelo: 0.5348\n",
      "MSE del modelo: 0.4935\n",
      "35.89190411567688\n"
     ]
    }
   ],
   "source": [
    "time0 = time()\n",
    "\n",
    "X = pitch[ind_vars]  # Asegúrate de usar las variables significativas\n",
    "y = pitch['Transfer_value']  # Variable dependiente\n",
    "\n",
    "X_train, X_test, y_train, y_test = train_test_split(X, y, random_state=0)\n",
    "\n",
    "ebm = ExplainableBoostingRegressor(random_state=0)\n",
    "ebm.fit(X_train, y_train)\n",
    "\n",
    "y_pred = ebm.predict(X_test)\n",
    "\n",
    "r2 = r2_score(y_test, y_pred)\n",
    "mse = mean_squared_error(y_test, y_pred)\n",
    "\n",
    "print(f\"R² del modelo: {r2:.4f}\")\n",
    "print(f\"MSE del modelo: {mse:.4f}\")\n",
    "\n",
    "print(time() - time0)"
   ]
  },
  {
   "cell_type": "code",
   "execution_count": 4,
   "id": "d3e1b7bb",
   "metadata": {},
   "outputs": [
    {
     "name": "stdout",
     "output_type": "stream",
     "text": [
      "                                           Variable  Importancia\n",
      "1                                               Age     0.200627\n",
      "0                                         Exp_contr     0.179575\n",
      "9                                            GCA_BC     0.156228\n",
      "3                                     Minutes_pl_BC     0.145565\n",
      "27                  Reduced_country_from_Inglaterra     0.125051\n",
      "4                                          NP_goals     0.085312\n",
      "2                                        Minutes_pl     0.070526\n",
      "8                                     Interceptions     0.058069\n",
      "29                      Reduced_country_from_España     0.045960\n",
      "31                    Reduced_country_from_Alemania     0.042964\n",
      "30                      Reduced_country_from_Italia     0.042646\n",
      "28                     Reduced_country_from_Francia     0.041766\n",
      "7                                           Assists     0.034828\n",
      "33                Reduced_country_from_Países Bajos     0.029979\n",
      "60  Minutes_pl_BC & Reduced_country_from_Inglaterra     0.029879\n",
      "45                              Age & Minutes_pl_BC     0.026774\n",
      "43      Exp_contr & Reduced_country_from_Inglaterra     0.022888\n",
      "17                    Reduced_team_from_Real Madrid     0.022665\n",
      "10                                     Yellow_cards     0.020833\n",
      "18                      Reduced_team_from_Barcelona     0.019106\n"
     ]
    }
   ],
   "source": [
    "global_explanation = ebm.explain_global()\n",
    "\n",
    "importance_df = pd.DataFrame({\n",
    "    'Variable': global_explanation.data()['names'],\n",
    "    'Importancia': global_explanation.data()['scores']\n",
    "}).sort_values(by='Importancia', ascending=False)\n",
    "\n",
    "print(importance_df.head(20))"
   ]
  }
 ],
 "metadata": {
  "kernelspec": {
   "display_name": "Python 3 (ipykernel)",
   "language": "python",
   "name": "python3"
  },
  "language_info": {
   "codemirror_mode": {
    "name": "ipython",
    "version": 3
   },
   "file_extension": ".py",
   "mimetype": "text/x-python",
   "name": "python",
   "nbconvert_exporter": "python",
   "pygments_lexer": "ipython3",
   "version": "3.11.4"
  }
 },
 "nbformat": 4,
 "nbformat_minor": 5
}
