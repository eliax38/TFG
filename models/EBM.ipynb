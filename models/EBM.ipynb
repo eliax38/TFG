{
 "cells": [
  {
   "cell_type": "code",
   "execution_count": 4,
   "id": "fabf3b7f",
   "metadata": {},
   "outputs": [],
   "source": [
    "import numpy as np\n",
    "import pandas as pd\n",
    "from sklearn.preprocessing import StandardScaler\n",
    "from interpret.glassbox import ExplainableBoostingRegressor\n",
    "from sklearn.model_selection import train_test_split\n",
    "from sklearn.metrics import r2_score, mean_squared_error\n",
    "from time import time\n",
    "\n",
    "pitch = pd.read_excel(\"reduced_pitch.xlsx\")\n",
    "\n",
    "numeric_vars = ['Transfer_value', 'Exp_contr', 'Age', 'Minutes_pl', 'Minutes_pl_BC', 'NP_goals', 'Pen_goals', 'Pen_goals_BC', 'Assists', 'Interceptions', 'GCA_BC', 'Yellow_cards', 'Red_cards']\n",
    "pitch[numeric_vars] = StandardScaler().fit_transform(pitch[numeric_vars])"
   ]
  },
  {
   "cell_type": "code",
   "execution_count": 5,
   "id": "5791f1ac",
   "metadata": {},
   "outputs": [],
   "source": [
    "ind_vars = ['Exp_contr', 'Age', 'Minutes_pl', 'Minutes_pl_BC',\n",
    "       'NP_goals', 'Pen_goals', 'Pen_goals_BC', 'Assists', 'Interceptions',\n",
    "       'GCA_BC', 'Yellow_cards', 'Red_cards', 'Reduced_team_from_Inter',\n",
    "       'Reduced_team_from_AC Milan', 'Reduced_team_from_Juventus',\n",
    "       'Reduced_team_from_Napoli', 'Reduced_team_from_Paris SG',\n",
    "       'Reduced_team_from_Real Madrid', 'Reduced_team_from_Barcelona',\n",
    "       'Reduced_team_from_Atlético Madrid', 'Reduced_team_from_Bayern Munich',\n",
    "       'Reduced_team_from_Bor. Dortmund', 'Reduced_team_from_Chelsea',\n",
    "       'Reduced_team_from_Arsenal', 'Reduced_team_from_Man City',\n",
    "       'Reduced_team_from_Man Utd', 'Reduced_team_from_Liverpool', 'Reduced_country_from_Inglaterra',\n",
    "       'Reduced_country_from_Francia', 'Reduced_country_from_España',\n",
    "       'Reduced_country_from_Italia', 'Reduced_country_from_Alemania',\n",
    "       'Reduced_country_from_Portugal', 'Reduced_country_from_Países Bajos',\n",
    "       'Reduced_country_from_Argentina', 'Reduced_country_from_Brasil', 'Position_Centre-Forward',\n",
    "       'Position_Left-Back', 'Position_Central Midfield',\n",
    "       'Position_Centre-Back', 'Position_Right Winger',\n",
    "       'Position_Attacking Midfield', 'Position_Defensive Midfield',\n",
    "       'Position_Left Winger', 'Position_Second Striker',\n",
    "       'Position_Left Midfield', 'Position_Right Midfield']"
   ]
  },
  {
   "cell_type": "code",
   "execution_count": 3,
   "id": "ff793fb4",
   "metadata": {},
   "outputs": [],
   "source": []
  },
  {
   "cell_type": "code",
   "execution_count": 6,
   "id": "0890b6a3",
   "metadata": {},
   "outputs": [
    {
     "name": "stdout",
     "output_type": "stream",
     "text": [
      "R² del modelo: 0.4341\n",
      "MSE del modelo: 0.5301\n",
      "53.395737409591675\n"
     ]
    }
   ],
   "source": [
    "time0 = time()\n",
    "\n",
    "X = pitch[ind_vars]  # Asegúrate de usar las variables significativas\n",
    "y = pitch['Transfer_value']  # Variable dependiente\n",
    "\n",
    "X_train, X_test, y_train, y_test = train_test_split(X, y, random_state=0)\n",
    "\n",
    "ebm = ExplainableBoostingRegressor(random_state=0)\n",
    "ebm.fit(X_train, y_train)\n",
    "\n",
    "y_pred = ebm.predict(X_test)\n",
    "\n",
    "r2 = r2_score(y_test, y_pred)\n",
    "mse = mean_squared_error(y_test, y_pred)\n",
    "\n",
    "print(f\"R² del modelo: {r2:.4f}\")\n",
    "print(f\"MSE del modelo: {mse:.4f}\")\n",
    "\n",
    "print(time() - time0)"
   ]
  },
  {
   "cell_type": "code",
   "execution_count": 8,
   "id": "3404a277",
   "metadata": {},
   "outputs": [],
   "source": [
    "global_explanation = ebm.explain_global()\n",
    "\n",
    "# # Mostrar importancia de cada variable\n",
    "# for feature, score in zip(global_explanation.data()['names'], global_explanation.data()['scores']):\n",
    "#     print(f\"{feature}: {score:.4f}\")"
   ]
  },
  {
   "cell_type": "code",
   "execution_count": 9,
   "id": "732ba17e",
   "metadata": {},
   "outputs": [
    {
     "name": "stdout",
     "output_type": "stream",
     "text": [
      "                                           Variable  Importancia\n",
      "1                                               Age     0.218964\n",
      "3                                     Minutes_pl_BC     0.189599\n",
      "0                                         Exp_contr     0.184833\n",
      "9                                            GCA_BC     0.137094\n",
      "4                                          NP_goals     0.107687\n",
      "27                  Reduced_country_from_Inglaterra     0.090287\n",
      "39                             Position_Centre-Back     0.075013\n",
      "8                                     Interceptions     0.053434\n",
      "2                                        Minutes_pl     0.048316\n",
      "7                                           Assists     0.045680\n",
      "28                     Reduced_country_from_Francia     0.038727\n",
      "76  Minutes_pl_BC & Reduced_country_from_Inglaterra     0.031586\n",
      "31                    Reduced_country_from_Alemania     0.030115\n",
      "30                      Reduced_country_from_Italia     0.029699\n",
      "49                        Exp_contr & Minutes_pl_BC     0.029058\n",
      "56      Exp_contr & Reduced_country_from_Inglaterra     0.027524\n",
      "58                              Age & Minutes_pl_BC     0.027006\n",
      "6                                      Pen_goals_BC     0.026433\n",
      "42                      Position_Defensive Midfield     0.025592\n",
      "32                    Reduced_country_from_Portugal     0.024784\n"
     ]
    }
   ],
   "source": [
    "importance_df = pd.DataFrame({\n",
    "    'Variable': global_explanation.data()['names'],\n",
    "    'Importancia': global_explanation.data()['scores']\n",
    "}).sort_values(by='Importancia', ascending=False)\n",
    "\n",
    "print(importance_df.head(20))"
   ]
  },
  {
   "cell_type": "code",
   "execution_count": 10,
   "id": "66a8fd62",
   "metadata": {},
   "outputs": [
    {
     "data": {
      "text/plain": [
       "2.0390276724063705"
      ]
     },
     "execution_count": 10,
     "metadata": {},
     "output_type": "execute_result"
    }
   ],
   "source": [
    "sum(importance_df['Importancia'])"
   ]
  },
  {
   "cell_type": "code",
   "execution_count": null,
   "id": "f7ce7c12",
   "metadata": {},
   "outputs": [],
   "source": []
  },
  {
   "cell_type": "code",
   "execution_count": null,
   "id": "1d17b89e",
   "metadata": {},
   "outputs": [],
   "source": []
  },
  {
   "cell_type": "code",
   "execution_count": 29,
   "id": "c9d3c305",
   "metadata": {},
   "outputs": [
    {
     "name": "stdout",
     "output_type": "stream",
     "text": [
      "Fitting 3 folds for each of 162 candidates, totalling 486 fits\n",
      "Tiempo de GridSearchCV: 1219.17 segundos\n",
      "Mejores hiperparámetros: {'interactions': 2, 'learning_rate': 0.05, 'max_leaves': 3, 'max_rounds': 100, 'min_samples_leaf': 5}\n",
      "Mejor R² en validación cruzada: 0.5097\n",
      "R² del mejor modelo en el conjunto de prueba: 0.3888\n",
      "MSE del mejor modelo en el conjunto de prueba: 0.5726\n"
     ]
    }
   ],
   "source": [
    "X = pitch[ind_vars]\n",
    "y = pitch['Transfer_value']\n",
    "\n",
    "X_train, X_test, y_train, y_test = train_test_split(X, y, random_state=0)\n",
    "\n",
    "# Define el espacio de hiperparámetros que quieres explorar\n",
    "param_grid = {\n",
    "    'max_rounds': [50, 100, 200],\n",
    "    'learning_rate': [0.01, 0.05, 0.1],\n",
    "    'max_leaves': [3, 5, 7],\n",
    "    'min_samples_leaf': [1, 5, 10],\n",
    "    'interactions': [None, 2]  # Considerar hasta 2 pares de interacciones\n",
    "}\n",
    "\n",
    "# Crea el objeto GridSearchCV\n",
    "grid_search = GridSearchCV(estimator=ExplainableBoostingRegressor(random_state=0),\n",
    "                           param_grid=param_grid,\n",
    "                           scoring='r2',\n",
    "                           cv=3,\n",
    "                           n_jobs=-1,\n",
    "                           verbose=2)\n",
    "\n",
    "time0 = time()\n",
    "grid_search.fit(X_train, y_train)\n",
    "print(f\"Tiempo de GridSearchCV: {time() - time0:.2f} segundos\")\n",
    "\n",
    "# Mejores hiperparámetros encontrados\n",
    "print(f\"Mejores hiperparámetros: {grid_search.best_params_}\")\n",
    "\n",
    "# Mejor puntuación (R²) obtenida\n",
    "print(f\"Mejor R² en validación cruzada: {grid_search.best_score_:.4f}\")\n",
    "\n",
    "# Evaluar el modelo con los mejores hiperparámetros en el conjunto de prueba\n",
    "best_ebm = grid_search.best_estimator_\n",
    "y_pred_best = best_ebm.predict(X_test)\n",
    "r2_best = r2_score(y_test, y_pred_best)\n",
    "mse_best = mean_squared_error(y_test, y_pred_best)\n",
    "\n",
    "print(f\"R² del mejor modelo en el conjunto de prueba: {r2_best:.4f}\")\n",
    "print(f\"MSE del mejor modelo en el conjunto de prueba: {mse_best:.4f}\")"
   ]
  },
  {
   "cell_type": "code",
   "execution_count": 30,
   "id": "7114a1bb",
   "metadata": {},
   "outputs": [
    {
     "name": "stdout",
     "output_type": "stream",
     "text": [
      "                             Variable  Importancia\n",
      "1                                 Age     0.191886\n",
      "0                           Exp_contr     0.190268\n",
      "3                       Minutes_pl_BC     0.177568\n",
      "9                              GCA_BC     0.122098\n",
      "27    Reduced_country_from_Inglaterra     0.091934\n",
      "4                            NP_goals     0.087603\n",
      "39               Position_Centre-Back     0.057713\n",
      "2                          Minutes_pl     0.055091\n",
      "7                             Assists     0.047709\n",
      "47          Exp_contr & Minutes_pl_BC     0.045384\n",
      "8                       Interceptions     0.043579\n",
      "6                        Pen_goals_BC     0.030264\n",
      "28       Reduced_country_from_Francia     0.027814\n",
      "30        Reduced_country_from_Italia     0.024905\n",
      "32      Reduced_country_from_Portugal     0.024101\n",
      "31      Reduced_country_from_Alemania     0.022199\n",
      "11                          Red_cards     0.021498\n",
      "33  Reduced_country_from_Países Bajos     0.021371\n",
      "48          Exp_contr & Interceptions     0.020291\n",
      "42        Position_Defensive Midfield     0.019396\n"
     ]
    }
   ],
   "source": [
    "global_explanation = best_ebm.explain_global()\n",
    "\n",
    "importance_df = pd.DataFrame({\n",
    "    'Variable': global_explanation.data()['names'],\n",
    "    'Importancia': global_explanation.data()['scores']\n",
    "}).sort_values(by='Importancia', ascending=False)\n",
    "\n",
    "print(importance_df.head(20))"
   ]
  }
 ],
 "metadata": {
  "kernelspec": {
   "display_name": "Python 3 (ipykernel)",
   "language": "python",
   "name": "python3"
  },
  "language_info": {
   "codemirror_mode": {
    "name": "ipython",
    "version": 3
   },
   "file_extension": ".py",
   "mimetype": "text/x-python",
   "name": "python",
   "nbconvert_exporter": "python",
   "pygments_lexer": "ipython3",
   "version": "3.11.4"
  }
 },
 "nbformat": 4,
 "nbformat_minor": 5
}
