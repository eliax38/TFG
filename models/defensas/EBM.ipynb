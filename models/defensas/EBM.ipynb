{
 "cells": [
  {
   "cell_type": "code",
   "execution_count": 2,
   "id": "06a10afb",
   "metadata": {},
   "outputs": [],
   "source": [
    "import numpy as np\n",
    "import pandas as pd\n",
    "from sklearn.preprocessing import StandardScaler\n",
    "from interpret.glassbox import ExplainableBoostingRegressor\n",
    "from sklearn.model_selection import train_test_split\n",
    "from sklearn.metrics import r2_score, mean_squared_error\n",
    "from time import time\n",
    "\n",
    "pitch = pd.read_excel(\"reduced_defensas.xlsx\")\n",
    "\n",
    "numeric_vars = ['Transfer_value', 'Exp_contr', 'Age', 'Minutes_pl', 'Minutes_pl_BC', 'NP_goals', 'Pen_goals', 'Pen_goals_BC', 'Assists', 'Interceptions', 'GCA_BC', 'Yellow_cards', 'Red_cards']\n",
    "pitch[numeric_vars] = StandardScaler().fit_transform(pitch[numeric_vars])"
   ]
  },
  {
   "cell_type": "code",
   "execution_count": 3,
   "id": "856261a4",
   "metadata": {},
   "outputs": [],
   "source": [
    "ind_vars = ['Exp_contr', 'Age', 'Minutes_pl', 'Minutes_pl_BC',\n",
    "       'NP_goals', 'Pen_goals', 'Pen_goals_BC', 'Assists', 'Interceptions',\n",
    "       'GCA_BC', 'Yellow_cards', 'Red_cards', 'Reduced_team_from_Inter',\n",
    "       'Reduced_team_from_AC Milan', 'Reduced_team_from_Juventus',\n",
    "       'Reduced_team_from_Napoli', 'Reduced_team_from_Paris SG',\n",
    "       'Reduced_team_from_Real Madrid', 'Reduced_team_from_Barcelona',\n",
    "       'Reduced_team_from_Atlético Madrid', 'Reduced_team_from_Bayern Munich',\n",
    "       'Reduced_team_from_Bor. Dortmund', 'Reduced_team_from_Chelsea',\n",
    "       'Reduced_team_from_Arsenal', 'Reduced_team_from_Man City',\n",
    "       'Reduced_team_from_Man Utd', 'Reduced_team_from_Liverpool', 'Reduced_country_from_Inglaterra',\n",
    "       'Reduced_country_from_Francia', 'Reduced_country_from_España',\n",
    "       'Reduced_country_from_Italia', 'Reduced_country_from_Alemania',\n",
    "       'Reduced_country_from_Portugal', 'Reduced_country_from_Países Bajos',\n",
    "       'Reduced_country_from_Argentina', 'Reduced_country_from_Brasil']"
   ]
  },
  {
   "cell_type": "code",
   "execution_count": 4,
   "id": "fdf937fe",
   "metadata": {},
   "outputs": [
    {
     "name": "stdout",
     "output_type": "stream",
     "text": [
      "R² del modelo: 0.5218\n",
      "MSE del modelo: 0.4167\n",
      "138.6692864894867\n"
     ]
    }
   ],
   "source": [
    "time0 = time()\n",
    "\n",
    "X = pitch[ind_vars]  # Asegúrate de usar las variables significativas\n",
    "y = pitch['Transfer_value']  # Variable dependiente\n",
    "\n",
    "X_train, X_test, y_train, y_test = train_test_split(X, y, random_state=0)\n",
    "\n",
    "ebm = ExplainableBoostingRegressor(random_state=0)\n",
    "ebm.fit(X_train, y_train)\n",
    "\n",
    "y_pred = ebm.predict(X_test)\n",
    "\n",
    "r2 = r2_score(y_test, y_pred)\n",
    "mse = mean_squared_error(y_test, y_pred)\n",
    "\n",
    "print(f\"R² del modelo: {r2:.4f}\")\n",
    "print(f\"MSE del modelo: {mse:.4f}\")\n",
    "\n",
    "print(time() - time0)"
   ]
  },
  {
   "cell_type": "code",
   "execution_count": 6,
   "id": "0abe40bd",
   "metadata": {},
   "outputs": [
    {
     "name": "stdout",
     "output_type": "stream",
     "text": [
      "                                       Variable  Importancia\n",
      "0                                     Exp_contr     0.201920\n",
      "1                                           Age     0.182908\n",
      "3                                 Minutes_pl_BC     0.149628\n",
      "2                                    Minutes_pl     0.102114\n",
      "9                                        GCA_BC     0.091154\n",
      "27              Reduced_country_from_Inglaterra     0.072602\n",
      "8                                 Interceptions     0.066933\n",
      "4                                      NP_goals     0.063273\n",
      "7                                       Assists     0.044747\n",
      "45  Exp_contr & Reduced_country_from_Inglaterra     0.035637\n",
      "41                    Exp_contr & Interceptions     0.033491\n",
      "47                             Age & Minutes_pl     0.027488\n",
      "11                                    Red_cards     0.025995\n",
      "48                          Age & Minutes_pl_BC     0.025979\n",
      "33            Reduced_country_from_Países Bajos     0.024593\n",
      "14                   Reduced_team_from_Juventus     0.022717\n",
      "36                              Exp_contr & Age     0.020901\n",
      "46      Exp_contr & Reduced_country_from_España     0.020023\n",
      "37                       Exp_contr & Minutes_pl     0.017695\n",
      "50                          Age & Interceptions     0.017242\n"
     ]
    }
   ],
   "source": [
    "global_explanation = ebm.explain_global()\n",
    "\n",
    "importance_df = pd.DataFrame({\n",
    "    'Variable': global_explanation.data()['names'],\n",
    "    'Importancia': global_explanation.data()['scores']\n",
    "}).sort_values(by='Importancia', ascending=False)\n",
    "\n",
    "print(importance_df.head(20))"
   ]
  }
 ],
 "metadata": {
  "kernelspec": {
   "display_name": "Python 3 (ipykernel)",
   "language": "python",
   "name": "python3"
  },
  "language_info": {
   "codemirror_mode": {
    "name": "ipython",
    "version": 3
   },
   "file_extension": ".py",
   "mimetype": "text/x-python",
   "name": "python",
   "nbconvert_exporter": "python",
   "pygments_lexer": "ipython3",
   "version": "3.11.4"
  }
 },
 "nbformat": 4,
 "nbformat_minor": 5
}
