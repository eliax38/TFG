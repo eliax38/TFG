{
 "cells": [
  {
   "cell_type": "code",
   "execution_count": 1,
   "id": "f193498b",
   "metadata": {},
   "outputs": [],
   "source": [
    "import pandas as pd\n",
    "import seaborn as sns\n",
    "import matplotlib.pyplot as plt\n",
    "import numpy as np\n",
    "import statsmodels.api as sm\n",
    "from statsmodels.stats.outliers_influence import variance_inflation_factor\n",
    "from statsmodels.tools.tools import add_constant\n",
    "from sklearn.preprocessing import StandardScaler\n",
    "\n",
    "from sklearn.linear_model import LinearRegression\n",
    "from sklearn.model_selection import train_test_split\n",
    "from sklearn.metrics import mean_absolute_error, r2_score\n",
    "from statsmodels.stats.diagnostic import het_breuschpagan\n",
    "\n",
    "delanteros = pd.read_excel(\"reduced_delanteros.xlsx\")\n",
    "\n",
    "numeric_vars = ['Transfer_value', 'Exp_contr', 'Age', 'Minutes_pl', 'Minutes_pl_BC', 'NP_goals', 'Pen_goals', 'Pen_goals_BC', 'Assists', 'Interceptions', 'GCA_BC', 'Yellow_cards', 'Red_cards']\n",
    "delanteros[numeric_vars] = StandardScaler().fit_transform(delanteros[numeric_vars])"
   ]
  },
  {
   "cell_type": "code",
   "execution_count": 2,
   "id": "3a175491",
   "metadata": {},
   "outputs": [],
   "source": [
    "dic_vars = {\n",
    "'vars1': ['Age', 'Exp_contr', 'Minutes_pl_BC', 'NP_goals', 'Pen_goals', 'Pen_goals_BC', 'Assists', 'Interceptions', 'GCA_BC', 'Yellow_cards', 'Red_cards'],\n",
    "    \n",
    "'vars2': ['Reduced_team_from_Inter', 'Reduced_team_from_AC Milan', 'Reduced_team_from_Juventus', 'Reduced_team_from_Napoli', 'Reduced_team_from_Paris SG', 'Reduced_team_from_Real Madrid', 'Reduced_team_from_Barcelona', 'Reduced_team_from_Atlético Madrid',\n",
    "         'Reduced_team_from_Bayern Munich', 'Reduced_team_from_Bor. Dortmund', 'Reduced_team_from_Chelsea', 'Reduced_team_from_Arsenal', 'Reduced_team_from_Man City', 'Reduced_team_from_Man Utd', 'Reduced_team_from_Liverpool', 'Reduced_country_from_Inglaterra', \n",
    "         'Reduced_country_from_Francia', 'Reduced_country_from_España', 'Reduced_country_from_Italia', 'Reduced_country_from_Alemania', 'Reduced_country_from_Portugal', 'Reduced_country_from_Países Bajos', 'Reduced_country_from_Argentina', 'Reduced_country_from_Brasil'],\n",
    "}"
   ]
  },
  {
   "cell_type": "code",
   "execution_count": 3,
   "id": "0dafc505",
   "metadata": {},
   "outputs": [],
   "source": [
    "def multiple_lr(df, indep_vars):\n",
    "    X = df[indep_vars]\n",
    "    y = df[\"Transfer_value\"]  # Transfer_value_sqrt\n",
    "\n",
    "    # Añadir una constante al conjunto de entrenamiento para el término independiente (intercepto)\n",
    "    X = sm.add_constant(X)\n",
    "\n",
    "    # Entrenar el modelo de Ordinary Least Squares (OLS) de statsmodels\n",
    "    model_sm = sm.OLS(y, X).fit()\n",
    "    \n",
    "    model_sm_robust = model_sm.get_robustcov_results(cov_type='HC3')\n",
    "\n",
    "    # Obtener los p-valores de los coeficientes\n",
    "    p_values = model_sm_robust.pvalues\n",
    "\n",
    "    # Crear un DataFrame con los coeficientes y sus p-valores\n",
    "    p_values_df = pd.DataFrame({\n",
    "        \"Variable\": X.columns,\n",
    "        \"P-value\": p_values\n",
    "    })\n",
    "    \n",
    "    mse = model_sm_robust.mse_resid\n",
    "    print(f\"MSE: {mse}\")\n",
    "\n",
    "    # Ordenar el DataFrame por el valor absoluto del coeficiente\n",
    "#     print(coefficients_df.sort_values(by=\"Coeficiente\", key=abs, ascending=False))\n",
    "\n",
    "    \n",
    "    return (model_sm_robust, p_values_df)"
   ]
  },
  {
   "cell_type": "code",
   "execution_count": 4,
   "id": "3d2c8b06",
   "metadata": {},
   "outputs": [
    {
     "name": "stdout",
     "output_type": "stream",
     "text": [
      "MSE: 0.5029998102545604\n"
     ]
    }
   ],
   "source": [
    "(summ, p_values) = multiple_lr(delanteros, dic_vars['vars1'])"
   ]
  },
  {
   "cell_type": "code",
   "execution_count": 5,
   "id": "c59b54f3",
   "metadata": {},
   "outputs": [
    {
     "name": "stdout",
     "output_type": "stream",
     "text": [
      "MSE: 0.5029998102545604\n",
      "MSE: 0.5038584589380325\n",
      "                            OLS Regression Results                            \n",
      "==============================================================================\n",
      "Dep. Variable:         Transfer_value   R-squared:                       0.499\n",
      "Model:                            OLS   Adj. R-squared:                  0.497\n",
      "Method:                 Least Squares   F-statistic:                     69.69\n",
      "Date:                Sat, 10 May 2025   Prob (F-statistic):           2.19e-64\n",
      "Time:                        15:59:16   Log-Likelihood:                -1348.7\n",
      "No. Observations:                1256   AIC:                             2709.\n",
      "Df Residuals:                    1250   BIC:                             2740.\n",
      "Df Model:                           5                                         \n",
      "Covariance Type:                  HC3                                         \n",
      "==============================================================================\n",
      "                 coef    std err          t      P>|t|      [0.025      0.975]\n",
      "------------------------------------------------------------------------------\n",
      "const      -1.041e-17      0.020  -5.16e-16      1.000      -0.040       0.040\n",
      "Age           -0.2964      0.021    -14.182      0.000      -0.337      -0.255\n",
      "Exp_contr      0.2329      0.028      8.421      0.000       0.179       0.287\n",
      "NP_goals       0.2332      0.033      7.027      0.000       0.168       0.298\n",
      "Assists        0.1532      0.034      4.518      0.000       0.087       0.220\n",
      "GCA_BC         0.4192      0.042      9.924      0.000       0.336       0.502\n",
      "==============================================================================\n",
      "Omnibus:                      916.292   Durbin-Watson:                   1.772\n",
      "Prob(Omnibus):                  0.000   Jarque-Bera (JB):            24199.568\n",
      "Skew:                           3.066   Prob(JB):                         0.00\n",
      "Kurtosis:                      23.611   Cond. No.                         2.52\n",
      "==============================================================================\n",
      "\n",
      "Notes:\n",
      "[1] Standard Errors are heteroscedasticity robust (HC3)\n"
     ]
    }
   ],
   "source": [
    "ns = 1\n",
    "significant_variables = dic_vars['vars1']\n",
    "\n",
    "while ns > 0:\n",
    "    summ, p_values_df = multiple_lr(delanteros, significant_variables)\n",
    "\n",
    "    alpha = 0.05\n",
    "\n",
    "    # Identificar las variables significativas (excluyendo la constante)\n",
    "    significant_variables = p_values_df[(p_values_df[\"P-value\"] <= alpha) & (p_values_df[\"Variable\"] != \"const\")][\"Variable\"].tolist()\n",
    "    ns = len(p_values_df) - len(significant_variables) - 1\n",
    "#     print(ns)\n",
    "\n",
    "significant_variables_next = significant_variables\n",
    "print(summ.summary())"
   ]
  },
  {
   "cell_type": "code",
   "execution_count": 6,
   "id": "b56cc8c6",
   "metadata": {},
   "outputs": [
    {
     "name": "stdout",
     "output_type": "stream",
     "text": [
      "MSE: 0.4717472029218676\n",
      "MSE: 0.4850937686223945\n",
      "MSE: 0.48482895277822113\n",
      "                            OLS Regression Results                            \n",
      "==============================================================================\n",
      "Dep. Variable:         Transfer_value   R-squared:                       0.519\n",
      "Model:                            OLS   Adj. R-squared:                  0.516\n",
      "Method:                 Least Squares   F-statistic:                     42.70\n",
      "Date:                Sat, 10 May 2025   Prob (F-statistic):           6.37e-67\n",
      "Time:                        15:59:19   Log-Likelihood:                -1322.5\n",
      "No. Observations:                1256   AIC:                             2665.\n",
      "Df Residuals:                    1246   BIC:                             2716.\n",
      "Df Model:                           9                                         \n",
      "Covariance Type:                  HC3                                         \n",
      "===================================================================================================\n",
      "                                      coef    std err          t      P>|t|      [0.025      0.975]\n",
      "---------------------------------------------------------------------------------------------------\n",
      "const                              -0.0415      0.023     -1.808      0.071      -0.087       0.004\n",
      "Age                                -0.3036      0.022    -14.042      0.000      -0.346      -0.261\n",
      "Exp_contr                           0.2285      0.026      8.659      0.000       0.177       0.280\n",
      "NP_goals                            0.2241      0.033      6.874      0.000       0.160       0.288\n",
      "Assists                             0.1314      0.033      3.985      0.000       0.067       0.196\n",
      "GCA_BC                              0.4437      0.042     10.444      0.000       0.360       0.527\n",
      "Reduced_team_from_AC Milan         -0.4243      0.188     -2.261      0.024      -0.792      -0.056\n",
      "Reduced_country_from_Inglaterra     0.2893      0.065      4.473      0.000       0.162       0.416\n",
      "Reduced_country_from_Francia       -0.1343      0.060     -2.228      0.026      -0.253      -0.016\n",
      "Reduced_country_from_Portugal       0.4183      0.181      2.317      0.021       0.064       0.772\n",
      "==============================================================================\n",
      "Omnibus:                      902.086   Durbin-Watson:                   1.816\n",
      "Prob(Omnibus):                  0.000   Jarque-Bera (JB):            22827.693\n",
      "Skew:                           3.011   Prob(JB):                         0.00\n",
      "Kurtosis:                      22.999   Cond. No.                         24.4\n",
      "==============================================================================\n",
      "\n",
      "Notes:\n",
      "[1] Standard Errors are heteroscedasticity robust (HC3)\n"
     ]
    }
   ],
   "source": [
    "ns = 1\n",
    "significant_variables = list(significant_variables_next + dic_vars['vars2'])\n",
    "\n",
    "while ns > 0:\n",
    "    summ, p_values_df = multiple_lr(delanteros, significant_variables)\n",
    "\n",
    "    alpha = 0.05\n",
    "\n",
    "    # Identificar las variables significativas (excluyendo la constante)\n",
    "    significant_variables = p_values_df[(p_values_df[\"P-value\"] <= alpha) & (p_values_df[\"Variable\"] != \"const\")][\"Variable\"].tolist()\n",
    "    ns = len(p_values_df) - len(significant_variables) - 1\n",
    "#     print(ns)\n",
    "\n",
    "significant_variables_next = significant_variables\n",
    "print(summ.summary())"
   ]
  },
  {
   "cell_type": "code",
   "execution_count": null,
   "id": "403bfa6f",
   "metadata": {},
   "outputs": [],
   "source": []
  }
 ],
 "metadata": {
  "kernelspec": {
   "display_name": "Python 3 (ipykernel)",
   "language": "python",
   "name": "python3"
  },
  "language_info": {
   "codemirror_mode": {
    "name": "ipython",
    "version": 3
   },
   "file_extension": ".py",
   "mimetype": "text/x-python",
   "name": "python",
   "nbconvert_exporter": "python",
   "pygments_lexer": "ipython3",
   "version": "3.11.4"
  }
 },
 "nbformat": 4,
 "nbformat_minor": 5
}
