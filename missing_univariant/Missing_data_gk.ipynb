{
 "cells": [
  {
   "cell_type": "code",
   "execution_count": 2,
   "id": "2dd906bc",
   "metadata": {},
   "outputs": [],
   "source": [
    "import pandas as pd"
   ]
  },
  {
   "cell_type": "code",
   "execution_count": 6,
   "id": "a96921c9",
   "metadata": {},
   "outputs": [],
   "source": [
    "transfers_gk = pd.read_excel(\"df_goalkeepers.xlsx\")"
   ]
  },
  {
   "cell_type": "code",
   "execution_count": 9,
   "id": "e9caf735",
   "metadata": {},
   "outputs": [],
   "source": [
    "# Borramos las filas sin duración de contrato \n",
    "\n",
    "transfers_gk = transfers_gk.dropna(subset=['Exp_contr'])"
   ]
  },
  {
   "cell_type": "code",
   "execution_count": 7,
   "id": "35ecc7e7",
   "metadata": {},
   "outputs": [
    {
     "data": {
      "text/plain": [
       "{'Succ_passes_perc': 53,\n",
       " 'GCA': 53,\n",
       " 'Succ_passes': 53,\n",
       " 'Cross_stp': 53,\n",
       " 'Cross_ag': 53,\n",
       " 'SoTA_LS': 36,\n",
       " 'GA_LS': 26,\n",
       " 'Starts_LS': 20,\n",
       " 'Matches_pl_LS': 20,\n",
       " 'Minutes_pl_LS': 20,\n",
       " 'Age': 19,\n",
       " 'SoTA': 19,\n",
       " 'Exp_contr': 18,\n",
       " 'GA': 13,\n",
       " 'Assists': 11,\n",
       " 'Red_cards': 9,\n",
       " 'Yellow_cards': 9,\n",
       " 'Goals': 9,\n",
       " 'Starts_BC': 7,\n",
       " 'SoTA_BC': 7,\n",
       " 'PKSv': 7,\n",
       " 'PKA': 7,\n",
       " 'CS': 7,\n",
       " 'Starts_BC_LS': 7,\n",
       " 'SoTA_BC_LS': 7,\n",
       " 'Matches_pl': 7,\n",
       " 'GA_BC_LS': 7,\n",
       " 'GA_BC': 7,\n",
       " 'Matches_pl_BC': 7,\n",
       " 'Matches_pl_BC_LS': 7,\n",
       " 'Minutes_pl_BC_LS': 7,\n",
       " 'Minutes_pl_BC': 7,\n",
       " 'Starts': 7,\n",
       " 'Minutes_pl': 7,\n",
       " 'Year': 0,\n",
       " 'Position': 0,\n",
       " 'Transfer_value': 0,\n",
       " 'Team_to': 0,\n",
       " 'Team_from': 0,\n",
       " 'Name': 0}"
      ]
     },
     "execution_count": 7,
     "metadata": {},
     "output_type": "execute_result"
    }
   ],
   "source": [
    "missing_values = transfers_gk.isnull().sum().sort_values(ascending=False).to_dict()\n",
    "\n",
    "# df.drop('nombre_columna', axis=1)\n",
    "\n",
    "missing_values"
   ]
  },
  {
   "cell_type": "code",
   "execution_count": 8,
   "id": "e3728865",
   "metadata": {},
   "outputs": [],
   "source": [
    "# Eliminamos variables con más de 30 faltantes\n",
    "\n",
    "for n in missing_values:\n",
    "    if missing_values[n] > 30:\n",
    "        transfers_gk = transfers_gk.drop([n], axis=1)"
   ]
  },
  {
   "cell_type": "code",
   "execution_count": 10,
   "id": "5613fda4",
   "metadata": {},
   "outputs": [],
   "source": [
    "missing_values_row = transfers_gk.isnull().sum(axis=1).sort_values(ascending=False)\n",
    "\n",
    "# for n in missing_values_row:\n",
    "#     if missing_values_row[n]>0:\n",
    "#         print(n, missing_values_row[n])\n",
    "\n",
    "missing = {}\n",
    "\n",
    "for cut in range(1, 19):\n",
    "    total = 0\n",
    "    \n",
    "    for n in missing_values_row:\n",
    "        if n>=cut:\n",
    "            total += 1\n",
    "            \n",
    "    missing[cut] = total"
   ]
  },
  {
   "cell_type": "code",
   "execution_count": 11,
   "id": "b2e5cb47",
   "metadata": {},
   "outputs": [
    {
     "data": {
      "text/plain": [
       "{1: 23,\n",
       " 2: 16,\n",
       " 3: 15,\n",
       " 4: 14,\n",
       " 5: 14,\n",
       " 6: 8,\n",
       " 7: 8,\n",
       " 8: 7,\n",
       " 9: 6,\n",
       " 10: 6,\n",
       " 11: 6,\n",
       " 12: 6,\n",
       " 13: 6,\n",
       " 14: 6,\n",
       " 15: 6,\n",
       " 16: 6,\n",
       " 17: 6,\n",
       " 18: 6}"
      ]
     },
     "execution_count": 11,
     "metadata": {},
     "output_type": "execute_result"
    }
   ],
   "source": [
    "missing"
   ]
  },
  {
   "cell_type": "code",
   "execution_count": 48,
   "id": "017630d7",
   "metadata": {},
   "outputs": [],
   "source": [
    "nulls = transfers_gk.isnull().sum(axis=1)\n",
    "keys = list(nulls.keys())\n",
    "\n",
    "for n in keys:\n",
    "    if transfers_gk.isnull().sum(axis=1)[n] > 2:\n",
    "        transfers_gk = transfers_gk.drop(index=n)"
   ]
  },
  {
   "cell_type": "code",
   "execution_count": null,
   "id": "b04f4c6f",
   "metadata": {},
   "outputs": [],
   "source": [
    "transfers_gk.to_excel(\"corrected_gk.xlsx\", index=0)"
   ]
  },
  {
   "cell_type": "code",
   "execution_count": 17,
   "id": "73ec1ea4",
   "metadata": {},
   "outputs": [],
   "source": [
    "transfers_pitch = pd.read_excel(\"corrected_pitch.xlsx\")\n",
    "transfers_gk = pd.read_excel(\"corrected_gk.xlsx\")"
   ]
  },
  {
   "cell_type": "code",
   "execution_count": 20,
   "id": "c340ed98",
   "metadata": {},
   "outputs": [],
   "source": [
    "lg = list(transfers_gk.columns)\n",
    "lp = list(transfers_pitch.columns)\n",
    "\n",
    "common = {\"common\": [], \"pitch\": [], \"gk\": []}\n",
    "\n",
    "for c in lg:\n",
    "    if c in lp:\n",
    "        common[\"common\"].append(c)\n",
    "    else: \n",
    "        common[\"pitch\"].append(c)"
   ]
  },
  {
   "cell_type": "code",
   "execution_count": 21,
   "id": "f9d63870",
   "metadata": {},
   "outputs": [
    {
     "data": {
      "text/plain": [
       "{'common': ['Name',\n",
       "  'Exp_contr',\n",
       "  'Team_from',\n",
       "  'Team_to',\n",
       "  'Transfer_value',\n",
       "  'Position',\n",
       "  'Year',\n",
       "  'Age',\n",
       "  'Matches_pl',\n",
       "  'Matches_pl_LS',\n",
       "  'Matches_pl_BC',\n",
       "  'Matches_pl_BC_LS',\n",
       "  'Starts',\n",
       "  'Starts_LS',\n",
       "  'Starts_BC',\n",
       "  'Starts_BC_LS',\n",
       "  'Minutes_pl',\n",
       "  'Minutes_pl_LS',\n",
       "  'Minutes_pl_BC',\n",
       "  'Minutes_pl_BC_LS',\n",
       "  'Assists',\n",
       "  'Yellow_cards',\n",
       "  'Red_cards'],\n",
       " 'pitch': ['GA',\n",
       "  'GA_LS',\n",
       "  'GA_BC',\n",
       "  'GA_BC_LS',\n",
       "  'SoTA',\n",
       "  'SoTA_LS',\n",
       "  'SoTA_BC',\n",
       "  'SoTA_BC_LS',\n",
       "  'CS',\n",
       "  'PKA',\n",
       "  'PKSv',\n",
       "  'Goals'],\n",
       " 'gk': []}"
      ]
     },
     "execution_count": 21,
     "metadata": {},
     "output_type": "execute_result"
    }
   ],
   "source": [
    "common"
   ]
  }
 ],
 "metadata": {
  "kernelspec": {
   "display_name": "Python 3 (ipykernel)",
   "language": "python",
   "name": "python3"
  },
  "language_info": {
   "codemirror_mode": {
    "name": "ipython",
    "version": 3
   },
   "file_extension": ".py",
   "mimetype": "text/x-python",
   "name": "python",
   "nbconvert_exporter": "python",
   "pygments_lexer": "ipython3",
   "version": "3.11.4"
  }
 },
 "nbformat": 4,
 "nbformat_minor": 5
}
