{
 "cells": [
  {
   "cell_type": "code",
   "execution_count": 1,
   "id": "4a027a05",
   "metadata": {},
   "outputs": [],
   "source": [
    "import pandas as pd\n",
    "import seaborn as sns\n",
    "import matplotlib.pyplot as plt\n",
    "import numpy as np\n",
    "import statsmodels.api as sm\n",
    "from statsmodels.stats.outliers_influence import variance_inflation_factor\n",
    "from statsmodels.tools.tools import add_constant\n",
    "from sklearn.preprocessing import StandardScaler\n",
    "\n",
    "from sklearn.linear_model import LinearRegression\n",
    "from sklearn.model_selection import train_test_split\n",
    "from sklearn.metrics import mean_absolute_error, r2_score\n",
    "from statsmodels.stats.diagnostic import het_breuschpagan\n",
    "\n",
    "centrocampistas = pd.read_excel(\"reduced_centrocampistas.xlsx\")\n",
    "\n",
    "numeric_vars = ['Transfer_value', 'Exp_contr', 'Age', 'Minutes_pl', 'Minutes_pl_BC', 'NP_goals', 'Pen_goals', 'Pen_goals_BC', 'Assists', 'Interceptions', 'GCA_BC', 'Yellow_cards', 'Red_cards']\n",
    "centrocampistas[numeric_vars] = StandardScaler().fit_transform(centrocampistas[numeric_vars])"
   ]
  },
  {
   "cell_type": "code",
   "execution_count": 2,
   "id": "87e3f2d8",
   "metadata": {},
   "outputs": [],
   "source": [
    "dic_vars = {\n",
    "'vars1': ['Age', 'Exp_contr', 'Minutes_pl_BC', 'NP_goals', 'Pen_goals', 'Pen_goals_BC', 'Assists', 'Interceptions', 'GCA_BC', 'Yellow_cards', 'Red_cards'],\n",
    "    \n",
    "'vars2': ['Reduced_team_from_Inter', 'Reduced_team_from_AC Milan', 'Reduced_team_from_Juventus', 'Reduced_team_from_Napoli', 'Reduced_team_from_Paris SG', 'Reduced_team_from_Real Madrid', 'Reduced_team_from_Barcelona', 'Reduced_team_from_Atlético Madrid',\n",
    "         'Reduced_team_from_Bayern Munich', 'Reduced_team_from_Bor. Dortmund', 'Reduced_team_from_Chelsea', 'Reduced_team_from_Arsenal', 'Reduced_team_from_Man City', 'Reduced_team_from_Man Utd', 'Reduced_team_from_Liverpool', 'Reduced_country_from_Inglaterra', \n",
    "         'Reduced_country_from_Francia', 'Reduced_country_from_España', 'Reduced_country_from_Italia', 'Reduced_country_from_Alemania', 'Reduced_country_from_Portugal', 'Reduced_country_from_Países Bajos', 'Reduced_country_from_Argentina', 'Reduced_country_from_Brasil'],\n",
    "}"
   ]
  },
  {
   "cell_type": "code",
   "execution_count": 3,
   "id": "9a1d84a4",
   "metadata": {},
   "outputs": [],
   "source": [
    "def multiple_lr(df, indep_vars):\n",
    "    X = df[indep_vars]\n",
    "    y = df[\"Transfer_value\"]  # Transfer_value_sqrt\n",
    "\n",
    "    # Añadir una constante al conjunto de entrenamiento para el término independiente (intercepto)\n",
    "    X = sm.add_constant(X)\n",
    "\n",
    "    # Entrenar el modelo de Ordinary Least Squares (OLS) de statsmodels\n",
    "    model_sm = sm.OLS(y, X).fit()\n",
    "    \n",
    "    model_sm_robust = model_sm.get_robustcov_results(cov_type='HC3')\n",
    "\n",
    "    # Obtener los p-valores de los coeficientes\n",
    "    p_values = model_sm_robust.pvalues\n",
    "\n",
    "    # Crear un DataFrame con los coeficientes y sus p-valores\n",
    "    p_values_df = pd.DataFrame({\n",
    "        \"Variable\": X.columns,\n",
    "        \"P-value\": p_values\n",
    "    })\n",
    "    \n",
    "    mse = model_sm_robust.mse_resid\n",
    "    print(f\"MSE: {mse}\")\n",
    "\n",
    "    # Ordenar el DataFrame por el valor absoluto del coeficiente\n",
    "#     print(coefficients_df.sort_values(by=\"Coeficiente\", key=abs, ascending=False))\n",
    "\n",
    "    \n",
    "    return (model_sm_robust, p_values_df)"
   ]
  },
  {
   "cell_type": "code",
   "execution_count": 5,
   "id": "22601511",
   "metadata": {},
   "outputs": [
    {
     "name": "stdout",
     "output_type": "stream",
     "text": [
      "MSE: 0.5817133307692132\n"
     ]
    }
   ],
   "source": [
    "(summ, p_values) = multiple_lr(centrocampistas, dic_vars['vars1'])"
   ]
  },
  {
   "cell_type": "code",
   "execution_count": 6,
   "id": "e31baab4",
   "metadata": {},
   "outputs": [
    {
     "name": "stdout",
     "output_type": "stream",
     "text": [
      "MSE: 0.5817133307692132\n",
      "MSE: 0.583648680870122\n",
      "MSE: 0.5858258879418998\n",
      "                            OLS Regression Results                            \n",
      "==============================================================================\n",
      "Dep. Variable:         Transfer_value   R-squared:                       0.419\n",
      "Model:                            OLS   Adj. R-squared:                  0.415\n",
      "Method:                 Least Squares   F-statistic:                     35.77\n",
      "Date:                Sat, 10 May 2025   Prob (F-statistic):           4.21e-44\n",
      "Time:                        15:56:05   Log-Likelihood:                -1017.4\n",
      "No. Observations:                 887   AIC:                             2051.\n",
      "Df Residuals:                     879   BIC:                             2089.\n",
      "Df Model:                           7                                         \n",
      "Covariance Type:                  HC3                                         \n",
      "=================================================================================\n",
      "                    coef    std err          t      P>|t|      [0.025      0.975]\n",
      "---------------------------------------------------------------------------------\n",
      "const         -5.378e-17      0.026  -2.07e-15      1.000      -0.051       0.051\n",
      "Age              -0.3499      0.037     -9.356      0.000      -0.423      -0.277\n",
      "Exp_contr         0.2396      0.035      6.898      0.000       0.171       0.308\n",
      "NP_goals          0.1842      0.032      5.713      0.000       0.121       0.248\n",
      "Interceptions     0.2416      0.052      4.609      0.000       0.139       0.344\n",
      "GCA_BC            0.3585      0.045      7.947      0.000       0.270       0.447\n",
      "Yellow_cards      0.1071      0.038      2.787      0.005       0.032       0.182\n",
      "Red_cards        -0.0874      0.027     -3.268      0.001      -0.140      -0.035\n",
      "==============================================================================\n",
      "Omnibus:                      564.219   Durbin-Watson:                   1.801\n",
      "Prob(Omnibus):                  0.000   Jarque-Bera (JB):             8379.171\n",
      "Skew:                           2.657   Prob(JB):                         0.00\n",
      "Kurtosis:                      17.088   Cond. No.                         2.65\n",
      "==============================================================================\n",
      "\n",
      "Notes:\n",
      "[1] Standard Errors are heteroscedasticity robust (HC3)\n"
     ]
    }
   ],
   "source": [
    "ns = 1\n",
    "significant_variables = dic_vars['vars1']\n",
    "\n",
    "while ns > 0:\n",
    "    summ, p_values_df = multiple_lr(centrocampistas, significant_variables)\n",
    "\n",
    "    alpha = 0.05\n",
    "\n",
    "    # Identificar las variables significativas (excluyendo la constante)\n",
    "    significant_variables = p_values_df[(p_values_df[\"P-value\"] <= alpha) & (p_values_df[\"Variable\"] != \"const\")][\"Variable\"].tolist()\n",
    "    ns = len(p_values_df) - len(significant_variables) - 1\n",
    "#     print(ns)\n",
    "\n",
    "significant_variables_next = significant_variables\n",
    "print(summ.summary())"
   ]
  },
  {
   "cell_type": "code",
   "execution_count": 7,
   "id": "94966c18",
   "metadata": {},
   "outputs": [
    {
     "name": "stdout",
     "output_type": "stream",
     "text": [
      "MSE: 0.5040722066818032\n",
      "MSE: 0.5187602751956037\n",
      "MSE: 0.5200641515833695\n",
      "                            OLS Regression Results                            \n",
      "==============================================================================\n",
      "Dep. Variable:         Transfer_value   R-squared:                       0.490\n",
      "Model:                            OLS   Adj. R-squared:                  0.481\n",
      "Method:                 Least Squares   F-statistic:                     21.05\n",
      "Date:                Sat, 10 May 2025   Prob (F-statistic):           4.02e-54\n",
      "Time:                        15:56:29   Log-Likelihood:                -959.54\n",
      "No. Observations:                 887   AIC:                             1955.\n",
      "Df Residuals:                     869   BIC:                             2041.\n",
      "Df Model:                          17                                         \n",
      "Covariance Type:                  HC3                                         \n",
      "===================================================================================================\n",
      "                                      coef    std err          t      P>|t|      [0.025      0.975]\n",
      "---------------------------------------------------------------------------------------------------\n",
      "const                               0.0802      0.049      1.629      0.104      -0.016       0.177\n",
      "Age                                -0.3504      0.037     -9.420      0.000      -0.423      -0.277\n",
      "Exp_contr                           0.2443      0.033      7.309      0.000       0.179       0.310\n",
      "NP_goals                            0.1577      0.030      5.260      0.000       0.099       0.217\n",
      "Interceptions                       0.2165      0.049      4.410      0.000       0.120       0.313\n",
      "GCA_BC                              0.3982      0.048      8.316      0.000       0.304       0.492\n",
      "Yellow_cards                        0.0795      0.036      2.199      0.028       0.009       0.150\n",
      "Red_cards                          -0.0632      0.024     -2.622      0.009      -0.111      -0.016\n",
      "Reduced_team_from_Inter            -0.4919      0.128     -3.852      0.000      -0.743      -0.241\n",
      "Reduced_team_from_Juventus          0.6433      0.275      2.338      0.020       0.103       1.183\n",
      "Reduced_team_from_Paris SG          0.7151      0.283      2.528      0.012       0.160       1.270\n",
      "Reduced_team_from_Real Madrid       1.2379      0.527      2.350      0.019       0.204       2.272\n",
      "Reduced_team_from_Bayern Munich     0.6317      0.313      2.021      0.044       0.018       1.245\n",
      "Reduced_country_from_Inglaterra     0.4241      0.109      3.897      0.000       0.210       0.638\n",
      "Reduced_country_from_Francia       -0.2932      0.075     -3.912      0.000      -0.440      -0.146\n",
      "Reduced_country_from_España        -0.2431      0.095     -2.551      0.011      -0.430      -0.056\n",
      "Reduced_country_from_Italia        -0.2415      0.065     -3.729      0.000      -0.369      -0.114\n",
      "Reduced_country_from_Alemania      -0.2962      0.069     -4.298      0.000      -0.431      -0.161\n",
      "==============================================================================\n",
      "Omnibus:                      574.644   Durbin-Watson:                   1.875\n",
      "Prob(Omnibus):                  0.000   Jarque-Bera (JB):             9405.165\n",
      "Skew:                           2.688   Prob(JB):                         0.00\n",
      "Kurtosis:                      18.019   Cond. No.                         21.2\n",
      "==============================================================================\n",
      "\n",
      "Notes:\n",
      "[1] Standard Errors are heteroscedasticity robust (HC3)\n"
     ]
    }
   ],
   "source": [
    "ns = 1\n",
    "significant_variables = list(significant_variables_next + dic_vars['vars2'])\n",
    "\n",
    "while ns > 0:\n",
    "    summ, p_values_df = multiple_lr(centrocampistas, significant_variables)\n",
    "\n",
    "    alpha = 0.05\n",
    "\n",
    "    # Identificar las variables significativas (excluyendo la constante)\n",
    "    significant_variables = p_values_df[(p_values_df[\"P-value\"] <= alpha) & (p_values_df[\"Variable\"] != \"const\")][\"Variable\"].tolist()\n",
    "    ns = len(p_values_df) - len(significant_variables) - 1\n",
    "#     print(ns)\n",
    "\n",
    "significant_variables_next = significant_variables\n",
    "print(summ.summary())"
   ]
  }
 ],
 "metadata": {
  "kernelspec": {
   "display_name": "Python 3 (ipykernel)",
   "language": "python",
   "name": "python3"
  },
  "language_info": {
   "codemirror_mode": {
    "name": "ipython",
    "version": 3
   },
   "file_extension": ".py",
   "mimetype": "text/x-python",
   "name": "python",
   "nbconvert_exporter": "python",
   "pygments_lexer": "ipython3",
   "version": "3.11.4"
  }
 },
 "nbformat": 4,
 "nbformat_minor": 5
}
