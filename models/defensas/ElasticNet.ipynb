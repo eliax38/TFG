{
 "cells": [
  {
   "cell_type": "code",
   "execution_count": 1,
   "id": "2436b864",
   "metadata": {},
   "outputs": [],
   "source": [
    "import pandas as pd\n",
    "import numpy as np\n",
    "from sklearn.linear_model import ElasticNet\n",
    "from sklearn.preprocessing import StandardScaler\n",
    "from sklearn.metrics import mean_squared_error\n",
    "from sklearn.model_selection import GridSearchCV\n",
    "\n",
    "# Cargar datos\n",
    "pitch = pd.read_excel(\"reduced_defensas.xlsx\")\n",
    "\n",
    "# sqrt_vars = ['Interceptions', 'Yellow_cards', 'Transfer_value', 'Exp_contr', 'Minutes_pl_BC', 'NP_goals', 'Pen_goals', 'Pen_goals_BC', 'Assists', 'GCA_BC', 'Red_cards']\n",
    "# for var in sqrt_vars: \n",
    "#     pitch[var] = pitch[var].apply(np.sqrt)\n",
    "\n",
    "\n",
    "# Escalar variables numéricas\n",
    "numeric_vars = ['Transfer_value', 'Exp_contr', 'Age', 'Minutes_pl', 'Minutes_pl_BC', 'NP_goals', 'Pen_goals', 'Pen_goals_BC', 'Assists', 'Interceptions', 'GCA_BC', 'Yellow_cards', 'Red_cards']\n",
    "pitch[numeric_vars] = StandardScaler().fit_transform(pitch[numeric_vars])\n",
    "\n",
    "# Definir X e Y\n"
   ]
  },
  {
   "cell_type": "code",
   "execution_count": 4,
   "id": "144d3512",
   "metadata": {},
   "outputs": [],
   "source": [
    "ind_vars = ['Exp_contr', 'Age', 'Minutes_pl', 'Minutes_pl_BC',\n",
    "       'NP_goals', 'Pen_goals', 'Pen_goals_BC', 'Assists', 'Interceptions',\n",
    "       'GCA_BC', 'Yellow_cards', 'Red_cards', 'Reduced_team_from_Inter',\n",
    "       'Reduced_team_from_AC Milan', 'Reduced_team_from_Juventus',\n",
    "       'Reduced_team_from_Napoli', 'Reduced_team_from_Paris SG',\n",
    "       'Reduced_team_from_Real Madrid', 'Reduced_team_from_Barcelona',\n",
    "       'Reduced_team_from_Atlético Madrid', 'Reduced_team_from_Bayern Munich',\n",
    "       'Reduced_team_from_Bor. Dortmund', 'Reduced_team_from_Chelsea',\n",
    "       'Reduced_team_from_Arsenal', 'Reduced_team_from_Man City',\n",
    "       'Reduced_team_from_Man Utd', 'Reduced_team_from_Liverpool', 'Reduced_country_from_Inglaterra',\n",
    "       'Reduced_country_from_Francia', 'Reduced_country_from_España',\n",
    "       'Reduced_country_from_Italia', 'Reduced_country_from_Alemania',\n",
    "       'Reduced_country_from_Portugal', 'Reduced_country_from_Países Bajos',\n",
    "       'Reduced_country_from_Argentina', 'Reduced_country_from_Brasil']"
   ]
  },
  {
   "cell_type": "code",
   "execution_count": 5,
   "id": "34a236a2",
   "metadata": {},
   "outputs": [
    {
     "name": "stdout",
     "output_type": "stream",
     "text": [
      "Mejor alpha: 0.05994842503189409\n",
      "Mejor l1_ratio: 0.1\n",
      "R^2 en los datos de entrenamiento: 0.4328431164653581\n",
      "MSE en los datos de entrenamiento: 0.5671568835346419\n",
      "Coeficientes: [ 0.30012255 -0.28781778  0.16068704  0.21989989  0.13695573 -0.0017033\n",
      " -0.04090747 -0.08909978  0.05668085  0.14320897 -0.0315942  -0.01244841\n",
      "  0.         -0.          0.03530661  0.          0.          0.\n",
      "  0.          0.          0.00505189  0.          0.         -0.\n",
      "  0.          0.          0.          0.19081051 -0.08128845 -0.\n",
      " -0.         -0.          0.00914886  0.04560766 -0.          0.        ]\n"
     ]
    }
   ],
   "source": [
    "X = pitch[ind_vars]\n",
    "Y = pitch[\"Transfer_value\"]\n",
    "\n",
    "# Definir el modelo base\n",
    "elastic = ElasticNet(max_iter=10000)\n",
    "\n",
    "# Definir la malla de hiperparámetros\n",
    "param_grid = {\n",
    "    'alpha': np.logspace(-4, 1, 10),       # regularización\n",
    "    'l1_ratio': np.linspace(0.1, 0.9, 9)   # mezcla L1/L2\n",
    "}\n",
    "\n",
    "# Grid search con validación cruzada\n",
    "grid_search = GridSearchCV(estimator=elastic,\n",
    "                           param_grid=param_grid,\n",
    "                           scoring='r2',\n",
    "                           cv=5,\n",
    "                           n_jobs=-1)\n",
    "\n",
    "# Ajustar\n",
    "grid_search.fit(X, Y)\n",
    "\n",
    "# Resultados\n",
    "best_model = grid_search.best_estimator_\n",
    "y_pred = best_model.predict(X)\n",
    "r2 = best_model.score(X, Y)\n",
    "mse = mean_squared_error(Y, y_pred)\n",
    "\n",
    "print(\"Mejor alpha:\", grid_search.best_params_['alpha'])\n",
    "print(\"Mejor l1_ratio:\", grid_search.best_params_['l1_ratio'])\n",
    "print(f\"R^2 en los datos de entrenamiento: {r2}\")\n",
    "print(f\"MSE en los datos de entrenamiento: {mse}\")\n",
    "print(\"Coeficientes:\", best_model.coef_)"
   ]
  },
  {
   "cell_type": "code",
   "execution_count": 6,
   "id": "664ef067",
   "metadata": {},
   "outputs": [
    {
     "name": "stdout",
     "output_type": "stream",
     "text": [
      "\n",
      "Variables con coeficiente distinto de cero:\n",
      "                             Variable  Coeficiente\n",
      "0                           Exp_contr     0.300123\n",
      "1                                 Age    -0.287818\n",
      "3                       Minutes_pl_BC     0.219900\n",
      "27    Reduced_country_from_Inglaterra     0.190811\n",
      "2                          Minutes_pl     0.160687\n",
      "9                              GCA_BC     0.143209\n",
      "4                            NP_goals     0.136956\n",
      "7                             Assists    -0.089100\n",
      "28       Reduced_country_from_Francia    -0.081288\n",
      "8                       Interceptions     0.056681\n",
      "33  Reduced_country_from_Países Bajos     0.045608\n",
      "6                        Pen_goals_BC    -0.040907\n",
      "14         Reduced_team_from_Juventus     0.035307\n",
      "10                       Yellow_cards    -0.031594\n",
      "11                          Red_cards    -0.012448\n",
      "32      Reduced_country_from_Portugal     0.009149\n",
      "20    Reduced_team_from_Bayern Munich     0.005052\n",
      "5                           Pen_goals    -0.001703\n"
     ]
    }
   ],
   "source": [
    "columnas = X.columns\n",
    "coeficientes = best_model.coef_\n",
    "\n",
    "# Crear DataFrame con nombres y coeficientes\n",
    "coef_df = pd.DataFrame({\n",
    "    'Variable': columnas,\n",
    "    'Coeficiente': coeficientes\n",
    "})\n",
    "\n",
    "# Filtrar coeficientes distintos de cero\n",
    "coef_df = coef_df[coef_df['Coeficiente'] != 0]\n",
    "\n",
    "# Ordenar por importancia (valor absoluto)\n",
    "coef_df = coef_df.reindex(coef_df['Coeficiente'].abs().sort_values(ascending=False).index)\n",
    "\n",
    "# Mostrar\n",
    "print(\"\\nVariables con coeficiente distinto de cero:\")\n",
    "print(coef_df)"
   ]
  }
 ],
 "metadata": {
  "kernelspec": {
   "display_name": "Python 3 (ipykernel)",
   "language": "python",
   "name": "python3"
  },
  "language_info": {
   "codemirror_mode": {
    "name": "ipython",
    "version": 3
   },
   "file_extension": ".py",
   "mimetype": "text/x-python",
   "name": "python",
   "nbconvert_exporter": "python",
   "pygments_lexer": "ipython3",
   "version": "3.11.4"
  }
 },
 "nbformat": 4,
 "nbformat_minor": 5
}
