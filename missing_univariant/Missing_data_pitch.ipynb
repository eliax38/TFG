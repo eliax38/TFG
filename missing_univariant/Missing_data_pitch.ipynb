{
 "cells": [
  {
   "cell_type": "code",
   "execution_count": 1,
   "id": "2dd906bc",
   "metadata": {},
   "outputs": [],
   "source": [
    "import pandas as pd"
   ]
  },
  {
   "cell_type": "code",
   "execution_count": 4,
   "id": "a96921c9",
   "metadata": {},
   "outputs": [],
   "source": [
    "transfers_pitch = pd.read_excel(\"df_pitch.xlsx\")"
   ]
  },
  {
   "cell_type": "code",
   "execution_count": 6,
   "id": "e9caf735",
   "metadata": {},
   "outputs": [],
   "source": [
    "# Borramos las filas sin duración de contrato \n",
    "\n",
    "transfers_pitch = transfers_pitch.dropna(subset=['Matches_pl'])"
   ]
  },
  {
   "cell_type": "code",
   "execution_count": 7,
   "id": "35ecc7e7",
   "metadata": {},
   "outputs": [
    {
     "data": {
      "text/plain": [
       "{'Blocks_LS': 1166,\n",
       " 'GCA_LS': 1166,\n",
       " 'Won_aerial_duels_perc': 832,\n",
       " 'Succ_passes_perc': 780,\n",
       " 'Succ_passes': 770,\n",
       " 'Dis_Carries': 751,\n",
       " 'Succ_take_ons': 751,\n",
       " 'Att_pen_touches': 751,\n",
       " 'Touches': 751,\n",
       " 'Won_aerial_duels': 751,\n",
       " 'GCA': 751,\n",
       " 'Blocks': 751,\n",
       " 'Interceptions_LS': 332,\n",
       " 'Tackles_won_LS': 332,\n",
       " 'Exp_contr': 289,\n",
       " 'Matches_pl_LS': 261,\n",
       " 'Matches_pl_BC_LS': 211,\n",
       " 'Matches_pl_BC': 211,\n",
       " 'Interceptions': 140,\n",
       " 'Tackles_won': 140,\n",
       " 'Shoots': 133,\n",
       " 'Shoots_on_target': 125,\n",
       " 'Assists_LS': 98,\n",
       " 'NP_goals_LS': 83,\n",
       " 'Minutes_pl_LS': 83,\n",
       " 'Pen_goals_LS': 83,\n",
       " 'Starts_LS': 52,\n",
       " 'Age': 52,\n",
       " 'GCA_BC_LS': 43,\n",
       " 'GCA_BC': 43,\n",
       " 'Assists': 38,\n",
       " 'NP_goals': 26,\n",
       " 'Minutes_pl': 26,\n",
       " 'Pen_goals': 26,\n",
       " 'Yellow_cards': 26,\n",
       " 'Red_cards': 26,\n",
       " 'Name': 0,\n",
       " 'Assists_BC_LS': 0,\n",
       " 'Starts': 0,\n",
       " 'Team_from': 0,\n",
       " 'Team_to': 0,\n",
       " 'Transfer_value': 0,\n",
       " 'Position': 0,\n",
       " 'Year': 0,\n",
       " 'Matches_pl': 0,\n",
       " 'Starts_BC': 0,\n",
       " 'Assists_BC': 0,\n",
       " 'Starts_BC_LS': 0,\n",
       " 'Minutes_pl_BC': 0,\n",
       " 'Minutes_pl_BC_LS': 0,\n",
       " 'NP_goals_BC': 0,\n",
       " 'NP_goals_BC_LS': 0,\n",
       " 'Pen_goals_BC': 0,\n",
       " 'Pen_goals_BC_LS': 0}"
      ]
     },
     "execution_count": 7,
     "metadata": {},
     "output_type": "execute_result"
    }
   ],
   "source": [
    "missing_values = transfers_pitch.isnull().sum().sort_values(ascending=False).to_dict()\n",
    "\n",
    "# df.drop('nombre_columna', axis=1)\n",
    "\n",
    "missing_values"
   ]
  },
  {
   "cell_type": "code",
   "execution_count": 8,
   "id": "e3728865",
   "metadata": {},
   "outputs": [],
   "source": [
    "# Eliminamos variables con más de 300 faltantes\n",
    "\n",
    "for n in missing_values:\n",
    "    if missing_values[n] > 277:\n",
    "        transfers_pitch = transfers_pitch.drop([n], axis=1)"
   ]
  },
  {
   "cell_type": "code",
   "execution_count": 9,
   "id": "5613fda4",
   "metadata": {},
   "outputs": [],
   "source": [
    "missing_values_row = transfers_pitch.isnull().sum(axis=1).sort_values(ascending=False)\n",
    "\n",
    "# for n in missing_values_row:\n",
    "#     if missing_values_row[n]>0:\n",
    "#         print(n, missing_values_row[n])\n",
    "\n",
    "missing = {}\n",
    "\n",
    "for cut in range(1, 40):\n",
    "    total = 0\n",
    "    \n",
    "    for n in missing_values_row:\n",
    "        if n>=cut:\n",
    "            total += 1\n",
    "            \n",
    "    missing[cut] = total"
   ]
  },
  {
   "cell_type": "code",
   "execution_count": 10,
   "id": "b2e5cb47",
   "metadata": {},
   "outputs": [
    {
     "data": {
      "text/plain": [
       "{1: 396,\n",
       " 2: 392,\n",
       " 3: 387,\n",
       " 4: 181,\n",
       " 5: 92,\n",
       " 6: 90,\n",
       " 7: 80,\n",
       " 8: 41,\n",
       " 9: 40,\n",
       " 10: 35,\n",
       " 11: 33,\n",
       " 12: 30,\n",
       " 13: 27,\n",
       " 14: 26,\n",
       " 15: 26,\n",
       " 16: 26,\n",
       " 17: 8,\n",
       " 18: 8,\n",
       " 19: 8,\n",
       " 20: 0,\n",
       " 21: 0,\n",
       " 22: 0,\n",
       " 23: 0,\n",
       " 24: 0,\n",
       " 25: 0,\n",
       " 26: 0,\n",
       " 27: 0,\n",
       " 28: 0,\n",
       " 29: 0,\n",
       " 30: 0,\n",
       " 31: 0,\n",
       " 32: 0,\n",
       " 33: 0,\n",
       " 34: 0,\n",
       " 35: 0,\n",
       " 36: 0,\n",
       " 37: 0,\n",
       " 38: 0,\n",
       " 39: 0}"
      ]
     },
     "execution_count": 10,
     "metadata": {},
     "output_type": "execute_result"
    }
   ],
   "source": [
    "missing"
   ]
  },
  {
   "cell_type": "code",
   "execution_count": 31,
   "id": "017630d7",
   "metadata": {},
   "outputs": [],
   "source": [
    "nulls = transfers_pitch.isnull().sum(axis=1)\n",
    "keys = list(nulls.keys())\n",
    "\n",
    "for n in keys:\n",
    "    if transfers_pitch.isnull().sum(axis=1)[n] > 3:\n",
    "        transfers_pitch = transfers_pitch.drop(index=n)"
   ]
  },
  {
   "cell_type": "code",
   "execution_count": 30,
   "id": "0e409ee7",
   "metadata": {},
   "outputs": [
    {
     "name": "stdout",
     "output_type": "stream",
     "text": [
      "160 4\n",
      "161 4\n",
      "194 5\n",
      "203 4\n",
      "211 4\n",
      "450 4\n",
      "625 4\n",
      "754 4\n",
      "875 4\n",
      "1093 4\n",
      "1119 4\n",
      "1120 4\n",
      "1121 4\n",
      "1182 4\n",
      "1266 4\n",
      "1321 4\n",
      "1598 4\n",
      "1643 4\n",
      "1761 4\n",
      "1809 4\n",
      "1810 4\n",
      "1890 4\n",
      "1891 4\n",
      "1893 4\n",
      "1979 5\n",
      "2246 4\n",
      "2532 4\n",
      "2591 4\n",
      "2622 4\n",
      "2641 4\n",
      "2698 4\n",
      "2835 4\n",
      "2902 4\n",
      "2909 4\n",
      "2927 4\n",
      "2938 4\n",
      "2944 4\n",
      "2945 4\n",
      "2957 4\n",
      "2966 4\n",
      "2976 4\n",
      "2977 4\n",
      "2982 4\n",
      "2983 4\n",
      "2984 4\n",
      "2985 4\n",
      "2986 4\n",
      "2987 4\n",
      "2988 4\n",
      "3006 5\n",
      "3021 4\n",
      "3031 4\n",
      "3032 4\n",
      "3035 4\n",
      "3039 4\n",
      "3137 4\n",
      "56\n"
     ]
    }
   ],
   "source": [
    "l = list(nulls)\n",
    "count = 0\n",
    "\n",
    "for n in range(len(l)):\n",
    "    if l[n] > 0:\n",
    "        print(n+2, l[n])\n",
    "        count += 1\n",
    "print(count)"
   ]
  },
  {
   "cell_type": "code",
   "execution_count": 42,
   "id": "eda633c9",
   "metadata": {},
   "outputs": [
    {
     "data": {
      "text/plain": [
       "(3207, 40)"
      ]
     },
     "execution_count": 42,
     "metadata": {},
     "output_type": "execute_result"
    }
   ],
   "source": [
    "transfers_pitch.shape"
   ]
  },
  {
   "cell_type": "code",
   "execution_count": 32,
   "id": "b04f4c6f",
   "metadata": {},
   "outputs": [],
   "source": [
    "transfers_pitch.to_excel(\"corrected_pitch.xlsx\", index=0)"
   ]
  }
 ],
 "metadata": {
  "kernelspec": {
   "display_name": "Python 3 (ipykernel)",
   "language": "python",
   "name": "python3"
  },
  "language_info": {
   "codemirror_mode": {
    "name": "ipython",
    "version": 3
   },
   "file_extension": ".py",
   "mimetype": "text/x-python",
   "name": "python",
   "nbconvert_exporter": "python",
   "pygments_lexer": "ipython3",
   "version": "3.11.4"
  }
 },
 "nbformat": 4,
 "nbformat_minor": 5
}
